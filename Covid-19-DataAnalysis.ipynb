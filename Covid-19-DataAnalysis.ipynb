{
  "nbformat": 4,
  "nbformat_minor": 0,
  "metadata": {
    "colab": {
      "name": "Untitled0.ipynb",
      "provenance": [],
      "collapsed_sections": [
        "xliwRSgQ97tD",
        "GGru8iLM9zUl",
        "iDwsZLAqGTF3"
      ],
      "authorship_tag": "ABX9TyPc0OOAKSCnO1L8CX0y9AgB",
      "include_colab_link": true
    },
    "kernelspec": {
      "name": "python3",
      "display_name": "Python 3"
    },
    "language_info": {
      "name": "python"
    }
  },
  "cells": [
    {
      "cell_type": "markdown",
      "metadata": {
        "id": "view-in-github",
        "colab_type": "text"
      },
      "source": [
        "<a href=\"https://colab.research.google.com/github/devmustafa4/Covid-19-Data-Analysis/blob/main/Covid-19-DataAnalysis.ipynb\" target=\"_parent\"><img src=\"https://colab.research.google.com/assets/colab-badge.svg\" alt=\"Open In Colab\"/></a>"
      ]
    },
    {
      "cell_type": "markdown",
      "metadata": {
        "id": "yGCKUAm21UAH"
      },
      "source": [
        "# Importing necessary files\n"
      ]
    },
    {
      "cell_type": "code",
      "metadata": {
        "id": "dM7fb-aP1Qlh"
      },
      "source": [
        "import numpy as np \n",
        "import pandas as pd \n",
        "import os\n",
        "from google.colab import drive\n",
        "import seaborn as sns\n",
        "import matplotlib.pyplot as plt\n",
        "from scipy import stats\n",
        "\n",
        "from pandas import read_csv"
      ],
      "execution_count": 3,
      "outputs": []
    },
    {
      "cell_type": "markdown",
      "metadata": {
        "id": "UXl1P1br1khb"
      },
      "source": [
        "# Mounting the drive"
      ]
    },
    {
      "cell_type": "code",
      "metadata": {
        "colab": {
          "base_uri": "https://localhost:8080/"
        },
        "id": "zN6QfwuK1od5",
        "outputId": "b9902282-cd91-4640-800f-b98aaa2520be"
      },
      "source": [
        "drive.mount('/content/drive')"
      ],
      "execution_count": 4,
      "outputs": [
        {
          "output_type": "stream",
          "name": "stdout",
          "text": [
            "Mounted at /content/drive\n"
          ]
        }
      ]
    },
    {
      "cell_type": "markdown",
      "metadata": {
        "id": "AQSmA0xF3ua0"
      },
      "source": [
        "#  Loading the data\n"
      ]
    },
    {
      "cell_type": "code",
      "metadata": {
        "colab": {
          "base_uri": "https://localhost:8080/",
          "height": 206
        },
        "id": "f4nUfZwj3u7z",
        "outputId": "18d5133a-5cc3-472c-8724-62d3f36c4fbc"
      },
      "source": [
        "data = read_csv('drive/MyDrive/LearnOClock/covid_19_data.csv')\n",
        "data.head()"
      ],
      "execution_count": 5,
      "outputs": [
        {
          "output_type": "execute_result",
          "data": {
            "text/html": [
              "<div>\n",
              "<style scoped>\n",
              "    .dataframe tbody tr th:only-of-type {\n",
              "        vertical-align: middle;\n",
              "    }\n",
              "\n",
              "    .dataframe tbody tr th {\n",
              "        vertical-align: top;\n",
              "    }\n",
              "\n",
              "    .dataframe thead th {\n",
              "        text-align: right;\n",
              "    }\n",
              "</style>\n",
              "<table border=\"1\" class=\"dataframe\">\n",
              "  <thead>\n",
              "    <tr style=\"text-align: right;\">\n",
              "      <th></th>\n",
              "      <th>SNo</th>\n",
              "      <th>ObservationDate</th>\n",
              "      <th>Province/State</th>\n",
              "      <th>Country/Region</th>\n",
              "      <th>Last Update</th>\n",
              "      <th>Confirmed</th>\n",
              "      <th>Deaths</th>\n",
              "      <th>Recovered</th>\n",
              "    </tr>\n",
              "  </thead>\n",
              "  <tbody>\n",
              "    <tr>\n",
              "      <th>0</th>\n",
              "      <td>1</td>\n",
              "      <td>01/22/2020</td>\n",
              "      <td>Anhui</td>\n",
              "      <td>Mainland China</td>\n",
              "      <td>1/22/2020 17:00</td>\n",
              "      <td>1.0</td>\n",
              "      <td>0.0</td>\n",
              "      <td>0.0</td>\n",
              "    </tr>\n",
              "    <tr>\n",
              "      <th>1</th>\n",
              "      <td>2</td>\n",
              "      <td>01/22/2020</td>\n",
              "      <td>Beijing</td>\n",
              "      <td>Mainland China</td>\n",
              "      <td>1/22/2020 17:00</td>\n",
              "      <td>14.0</td>\n",
              "      <td>0.0</td>\n",
              "      <td>0.0</td>\n",
              "    </tr>\n",
              "    <tr>\n",
              "      <th>2</th>\n",
              "      <td>3</td>\n",
              "      <td>01/22/2020</td>\n",
              "      <td>Chongqing</td>\n",
              "      <td>Mainland China</td>\n",
              "      <td>1/22/2020 17:00</td>\n",
              "      <td>6.0</td>\n",
              "      <td>0.0</td>\n",
              "      <td>0.0</td>\n",
              "    </tr>\n",
              "    <tr>\n",
              "      <th>3</th>\n",
              "      <td>4</td>\n",
              "      <td>01/22/2020</td>\n",
              "      <td>Fujian</td>\n",
              "      <td>Mainland China</td>\n",
              "      <td>1/22/2020 17:00</td>\n",
              "      <td>1.0</td>\n",
              "      <td>0.0</td>\n",
              "      <td>0.0</td>\n",
              "    </tr>\n",
              "    <tr>\n",
              "      <th>4</th>\n",
              "      <td>5</td>\n",
              "      <td>01/22/2020</td>\n",
              "      <td>Gansu</td>\n",
              "      <td>Mainland China</td>\n",
              "      <td>1/22/2020 17:00</td>\n",
              "      <td>0.0</td>\n",
              "      <td>0.0</td>\n",
              "      <td>0.0</td>\n",
              "    </tr>\n",
              "  </tbody>\n",
              "</table>\n",
              "</div>"
            ],
            "text/plain": [
              "   SNo ObservationDate Province/State  ... Confirmed Deaths  Recovered\n",
              "0    1      01/22/2020          Anhui  ...       1.0    0.0        0.0\n",
              "1    2      01/22/2020        Beijing  ...      14.0    0.0        0.0\n",
              "2    3      01/22/2020      Chongqing  ...       6.0    0.0        0.0\n",
              "3    4      01/22/2020         Fujian  ...       1.0    0.0        0.0\n",
              "4    5      01/22/2020          Gansu  ...       0.0    0.0        0.0\n",
              "\n",
              "[5 rows x 8 columns]"
            ]
          },
          "metadata": {},
          "execution_count": 5
        }
      ]
    },
    {
      "cell_type": "markdown",
      "metadata": {
        "id": "UH9qSvabBcO0"
      },
      "source": [
        "# Cleaning the data\n"
      ]
    },
    {
      "cell_type": "code",
      "metadata": {
        "colab": {
          "base_uri": "https://localhost:8080/"
        },
        "id": "ShoU3t1SBeYk",
        "outputId": "2b579fb4-4c56-4ced-b251-bff9c5dc19fd"
      },
      "source": [
        "data.isnull().any(axis=0)"
      ],
      "execution_count": 6,
      "outputs": [
        {
          "output_type": "execute_result",
          "data": {
            "text/plain": [
              "SNo                False\n",
              "ObservationDate    False\n",
              "Province/State      True\n",
              "Country/Region     False\n",
              "Last Update        False\n",
              "Confirmed          False\n",
              "Deaths             False\n",
              "Recovered          False\n",
              "dtype: bool"
            ]
          },
          "metadata": {},
          "execution_count": 6
        }
      ]
    },
    {
      "cell_type": "code",
      "metadata": {
        "colab": {
          "base_uri": "https://localhost:8080/"
        },
        "id": "O9A6SIUOBuYF",
        "outputId": "8f4cf3d2-0604-45a9-d212-decd9a024a81"
      },
      "source": [
        "# removing rows with null values\n",
        "data.dropna(inplace=True)\n",
        "data.isnull().any(axis=0)"
      ],
      "execution_count": 7,
      "outputs": [
        {
          "output_type": "execute_result",
          "data": {
            "text/plain": [
              "SNo                False\n",
              "ObservationDate    False\n",
              "Province/State     False\n",
              "Country/Region     False\n",
              "Last Update        False\n",
              "Confirmed          False\n",
              "Deaths             False\n",
              "Recovered          False\n",
              "dtype: bool"
            ]
          },
          "metadata": {},
          "execution_count": 7
        }
      ]
    },
    {
      "cell_type": "code",
      "metadata": {
        "id": "ZqNqMizhBxDF"
      },
      "source": [
        "# removing rows with negative confirmed cases\n",
        "data = data[~(data['Confirmed'] <  0)]\n",
        "\n",
        "# removing rows with negative deaths cases\n",
        "data = data[~(data['Deaths'] <  0)]\n",
        "\n",
        "# removing rows with negative confirmed cases\n",
        "data = data[~(data['Recovered'] <  0)]\n",
        "\n"
      ],
      "execution_count": 8,
      "outputs": []
    },
    {
      "cell_type": "code",
      "metadata": {
        "colab": {
          "base_uri": "https://localhost:8080/"
        },
        "id": "lIrGVYcYXMjX",
        "outputId": "d7f76bea-13d9-48eb-aa01-3ca0803331df"
      },
      "source": [
        "data.info()"
      ],
      "execution_count": 9,
      "outputs": [
        {
          "output_type": "stream",
          "name": "stdout",
          "text": [
            "<class 'pandas.core.frame.DataFrame'>\n",
            "Int64Index: 228325 entries, 0 to 306428\n",
            "Data columns (total 8 columns):\n",
            " #   Column           Non-Null Count   Dtype  \n",
            "---  ------           --------------   -----  \n",
            " 0   SNo              228325 non-null  int64  \n",
            " 1   ObservationDate  228325 non-null  object \n",
            " 2   Province/State   228325 non-null  object \n",
            " 3   Country/Region   228325 non-null  object \n",
            " 4   Last Update      228325 non-null  object \n",
            " 5   Confirmed        228325 non-null  float64\n",
            " 6   Deaths           228325 non-null  float64\n",
            " 7   Recovered        228325 non-null  float64\n",
            "dtypes: float64(3), int64(1), object(4)\n",
            "memory usage: 15.7+ MB\n"
          ]
        }
      ]
    },
    {
      "cell_type": "code",
      "metadata": {
        "colab": {
          "base_uri": "https://localhost:8080/",
          "height": 300
        },
        "id": "bJct8OF-XSNe",
        "outputId": "529e15f9-07f4-41e3-cbe9-730f400f5744"
      },
      "source": [
        "data.describe()"
      ],
      "execution_count": 10,
      "outputs": [
        {
          "output_type": "execute_result",
          "data": {
            "text/html": [
              "<div>\n",
              "<style scoped>\n",
              "    .dataframe tbody tr th:only-of-type {\n",
              "        vertical-align: middle;\n",
              "    }\n",
              "\n",
              "    .dataframe tbody tr th {\n",
              "        vertical-align: top;\n",
              "    }\n",
              "\n",
              "    .dataframe thead th {\n",
              "        text-align: right;\n",
              "    }\n",
              "</style>\n",
              "<table border=\"1\" class=\"dataframe\">\n",
              "  <thead>\n",
              "    <tr style=\"text-align: right;\">\n",
              "      <th></th>\n",
              "      <th>SNo</th>\n",
              "      <th>Confirmed</th>\n",
              "      <th>Deaths</th>\n",
              "      <th>Recovered</th>\n",
              "    </tr>\n",
              "  </thead>\n",
              "  <tbody>\n",
              "    <tr>\n",
              "      <th>count</th>\n",
              "      <td>228325.000000</td>\n",
              "      <td>2.283250e+05</td>\n",
              "      <td>228325.000000</td>\n",
              "      <td>2.283250e+05</td>\n",
              "    </tr>\n",
              "    <tr>\n",
              "      <th>mean</th>\n",
              "      <td>158731.081178</td>\n",
              "      <td>8.021549e+04</td>\n",
              "      <td>1961.381106</td>\n",
              "      <td>4.184746e+04</td>\n",
              "    </tr>\n",
              "    <tr>\n",
              "      <th>std</th>\n",
              "      <td>85864.069975</td>\n",
              "      <td>2.493653e+05</td>\n",
              "      <td>5871.948609</td>\n",
              "      <td>1.793576e+05</td>\n",
              "    </tr>\n",
              "    <tr>\n",
              "      <th>min</th>\n",
              "      <td>1.000000</td>\n",
              "      <td>0.000000e+00</td>\n",
              "      <td>0.000000</td>\n",
              "      <td>0.000000e+00</td>\n",
              "    </tr>\n",
              "    <tr>\n",
              "      <th>25%</th>\n",
              "      <td>85428.000000</td>\n",
              "      <td>1.225000e+03</td>\n",
              "      <td>15.000000</td>\n",
              "      <td>0.000000e+00</td>\n",
              "    </tr>\n",
              "    <tr>\n",
              "      <th>50%</th>\n",
              "      <td>159306.000000</td>\n",
              "      <td>1.175800e+04</td>\n",
              "      <td>234.000000</td>\n",
              "      <td>1.211000e+03</td>\n",
              "    </tr>\n",
              "    <tr>\n",
              "      <th>75%</th>\n",
              "      <td>232836.000000</td>\n",
              "      <td>4.841200e+04</td>\n",
              "      <td>1411.000000</td>\n",
              "      <td>1.660300e+04</td>\n",
              "    </tr>\n",
              "    <tr>\n",
              "      <th>max</th>\n",
              "      <td>306429.000000</td>\n",
              "      <td>5.713215e+06</td>\n",
              "      <td>112385.000000</td>\n",
              "      <td>6.399531e+06</td>\n",
              "    </tr>\n",
              "  </tbody>\n",
              "</table>\n",
              "</div>"
            ],
            "text/plain": [
              "                 SNo     Confirmed         Deaths     Recovered\n",
              "count  228325.000000  2.283250e+05  228325.000000  2.283250e+05\n",
              "mean   158731.081178  8.021549e+04    1961.381106  4.184746e+04\n",
              "std     85864.069975  2.493653e+05    5871.948609  1.793576e+05\n",
              "min         1.000000  0.000000e+00       0.000000  0.000000e+00\n",
              "25%     85428.000000  1.225000e+03      15.000000  0.000000e+00\n",
              "50%    159306.000000  1.175800e+04     234.000000  1.211000e+03\n",
              "75%    232836.000000  4.841200e+04    1411.000000  1.660300e+04\n",
              "max    306429.000000  5.713215e+06  112385.000000  6.399531e+06"
            ]
          },
          "metadata": {},
          "execution_count": 10
        }
      ]
    },
    {
      "cell_type": "markdown",
      "metadata": {
        "id": "vRLcEJsg5MyK"
      },
      "source": [
        "# Tasks"
      ]
    },
    {
      "cell_type": "markdown",
      "metadata": {
        "id": "xliwRSgQ97tD"
      },
      "source": [
        "## Task1: Rank the countries in the dataset in descending order according to the number of deaths."
      ]
    },
    {
      "cell_type": "code",
      "metadata": {
        "colab": {
          "base_uri": "https://localhost:8080/",
          "height": 0
        },
        "id": "X9tzDlmE5Xj4",
        "outputId": "540fc800-5cc9-4fab-d4d2-6bc121c16222"
      },
      "source": [
        "data = data.sort_values(by=\"Deaths\", ascending=False)\n",
        "data[\"RankByDeath\"] = data[\"Deaths\"].rank(method=\"min\")\n",
        "data"
      ],
      "execution_count": 11,
      "outputs": [
        {
          "output_type": "execute_result",
          "data": {
            "text/html": [
              "<div>\n",
              "<style scoped>\n",
              "    .dataframe tbody tr th:only-of-type {\n",
              "        vertical-align: middle;\n",
              "    }\n",
              "\n",
              "    .dataframe tbody tr th {\n",
              "        vertical-align: top;\n",
              "    }\n",
              "\n",
              "    .dataframe thead th {\n",
              "        text-align: right;\n",
              "    }\n",
              "</style>\n",
              "<table border=\"1\" class=\"dataframe\">\n",
              "  <thead>\n",
              "    <tr style=\"text-align: right;\">\n",
              "      <th></th>\n",
              "      <th>SNo</th>\n",
              "      <th>ObservationDate</th>\n",
              "      <th>Province/State</th>\n",
              "      <th>Country/Region</th>\n",
              "      <th>Last Update</th>\n",
              "      <th>Confirmed</th>\n",
              "      <th>Deaths</th>\n",
              "      <th>Recovered</th>\n",
              "      <th>RankByDeath</th>\n",
              "    </tr>\n",
              "  </thead>\n",
              "  <tbody>\n",
              "    <tr>\n",
              "      <th>305972</th>\n",
              "      <td>305973</td>\n",
              "      <td>05/29/2021</td>\n",
              "      <td>England</td>\n",
              "      <td>UK</td>\n",
              "      <td>2021-05-30 04:20:55</td>\n",
              "      <td>3910803.0</td>\n",
              "      <td>112385.0</td>\n",
              "      <td>0.0</td>\n",
              "      <td>228325.0</td>\n",
              "    </tr>\n",
              "    <tr>\n",
              "      <th>305207</th>\n",
              "      <td>305208</td>\n",
              "      <td>05/28/2021</td>\n",
              "      <td>England</td>\n",
              "      <td>UK</td>\n",
              "      <td>2021-05-29 04:20:41</td>\n",
              "      <td>3908214.0</td>\n",
              "      <td>112379.0</td>\n",
              "      <td>0.0</td>\n",
              "      <td>228324.0</td>\n",
              "    </tr>\n",
              "    <tr>\n",
              "      <th>304442</th>\n",
              "      <td>304443</td>\n",
              "      <td>05/27/2021</td>\n",
              "      <td>England</td>\n",
              "      <td>UK</td>\n",
              "      <td>2021-05-28 04:20:36</td>\n",
              "      <td>3904934.0</td>\n",
              "      <td>112371.0</td>\n",
              "      <td>0.0</td>\n",
              "      <td>228323.0</td>\n",
              "    </tr>\n",
              "    <tr>\n",
              "      <th>303677</th>\n",
              "      <td>303678</td>\n",
              "      <td>05/26/2021</td>\n",
              "      <td>England</td>\n",
              "      <td>UK</td>\n",
              "      <td>2021-05-27 04:20:59</td>\n",
              "      <td>3902160.0</td>\n",
              "      <td>112363.0</td>\n",
              "      <td>0.0</td>\n",
              "      <td>228322.0</td>\n",
              "    </tr>\n",
              "    <tr>\n",
              "      <th>302912</th>\n",
              "      <td>302913</td>\n",
              "      <td>05/25/2021</td>\n",
              "      <td>England</td>\n",
              "      <td>UK</td>\n",
              "      <td>2021-05-26 04:20:35</td>\n",
              "      <td>3899813.0</td>\n",
              "      <td>112355.0</td>\n",
              "      <td>0.0</td>\n",
              "      <td>228321.0</td>\n",
              "    </tr>\n",
              "    <tr>\n",
              "      <th>...</th>\n",
              "      <td>...</td>\n",
              "      <td>...</td>\n",
              "      <td>...</td>\n",
              "      <td>...</td>\n",
              "      <td>...</td>\n",
              "      <td>...</td>\n",
              "      <td>...</td>\n",
              "      <td>...</td>\n",
              "      <td>...</td>\n",
              "    </tr>\n",
              "    <tr>\n",
              "      <th>67470</th>\n",
              "      <td>67471</td>\n",
              "      <td>07/18/2020</td>\n",
              "      <td>Okayama</td>\n",
              "      <td>Japan</td>\n",
              "      <td>2021-04-02 15:13:53</td>\n",
              "      <td>37.0</td>\n",
              "      <td>0.0</td>\n",
              "      <td>28.0</td>\n",
              "      <td>1.0</td>\n",
              "    </tr>\n",
              "    <tr>\n",
              "      <th>196739</th>\n",
              "      <td>196740</td>\n",
              "      <td>01/06/2021</td>\n",
              "      <td>Macau</td>\n",
              "      <td>Macau</td>\n",
              "      <td>2021-04-02 15:13:53</td>\n",
              "      <td>46.0</td>\n",
              "      <td>0.0</td>\n",
              "      <td>46.0</td>\n",
              "      <td>1.0</td>\n",
              "    </tr>\n",
              "    <tr>\n",
              "      <th>67499</th>\n",
              "      <td>67500</td>\n",
              "      <td>07/18/2020</td>\n",
              "      <td>Prince Edward Island</td>\n",
              "      <td>Canada</td>\n",
              "      <td>2021-04-02 15:13:53</td>\n",
              "      <td>36.0</td>\n",
              "      <td>0.0</td>\n",
              "      <td>29.0</td>\n",
              "      <td>1.0</td>\n",
              "    </tr>\n",
              "    <tr>\n",
              "      <th>196737</th>\n",
              "      <td>196738</td>\n",
              "      <td>01/06/2021</td>\n",
              "      <td>Luxembourg</td>\n",
              "      <td>Belgium</td>\n",
              "      <td>2021-04-02 15:13:53</td>\n",
              "      <td>18618.0</td>\n",
              "      <td>0.0</td>\n",
              "      <td>0.0</td>\n",
              "      <td>1.0</td>\n",
              "    </tr>\n",
              "    <tr>\n",
              "      <th>0</th>\n",
              "      <td>1</td>\n",
              "      <td>01/22/2020</td>\n",
              "      <td>Anhui</td>\n",
              "      <td>Mainland China</td>\n",
              "      <td>1/22/2020 17:00</td>\n",
              "      <td>1.0</td>\n",
              "      <td>0.0</td>\n",
              "      <td>0.0</td>\n",
              "      <td>1.0</td>\n",
              "    </tr>\n",
              "  </tbody>\n",
              "</table>\n",
              "<p>228325 rows × 9 columns</p>\n",
              "</div>"
            ],
            "text/plain": [
              "           SNo ObservationDate  ... Recovered RankByDeath\n",
              "305972  305973      05/29/2021  ...       0.0    228325.0\n",
              "305207  305208      05/28/2021  ...       0.0    228324.0\n",
              "304442  304443      05/27/2021  ...       0.0    228323.0\n",
              "303677  303678      05/26/2021  ...       0.0    228322.0\n",
              "302912  302913      05/25/2021  ...       0.0    228321.0\n",
              "...        ...             ...  ...       ...         ...\n",
              "67470    67471      07/18/2020  ...      28.0         1.0\n",
              "196739  196740      01/06/2021  ...      46.0         1.0\n",
              "67499    67500      07/18/2020  ...      29.0         1.0\n",
              "196737  196738      01/06/2021  ...       0.0         1.0\n",
              "0            1      01/22/2020  ...       0.0         1.0\n",
              "\n",
              "[228325 rows x 9 columns]"
            ]
          },
          "metadata": {},
          "execution_count": 11
        }
      ]
    },
    {
      "cell_type": "markdown",
      "metadata": {
        "id": "GGru8iLM9zUl"
      },
      "source": [
        "## Task 2: Figure out the most affected provinces/states in the top 3 countries with the most number of Deaths."
      ]
    },
    {
      "cell_type": "code",
      "metadata": {
        "colab": {
          "base_uri": "https://localhost:8080/",
          "height": 0
        },
        "id": "037y3pgS7Seq",
        "outputId": "898bcb01-b44c-42b5-c142-6ef5408e8414"
      },
      "source": [
        "countries_by_deaths  = pd.DataFrame(data.groupby(['Province/State','Country/Region']).sum()['Deaths'])\n",
        "countries_by_deaths = countries_by_deaths.sort_values(by=\"Deaths\", ascending=False)\n",
        "most_affected_countries_deaths = pd.DataFrame(countries_by_deaths.iloc[:3])\n",
        "most_affected_countries_deaths"
      ],
      "execution_count": 12,
      "outputs": [
        {
          "output_type": "execute_result",
          "data": {
            "text/html": [
              "<div>\n",
              "<style scoped>\n",
              "    .dataframe tbody tr th:only-of-type {\n",
              "        vertical-align: middle;\n",
              "    }\n",
              "\n",
              "    .dataframe tbody tr th {\n",
              "        vertical-align: top;\n",
              "    }\n",
              "\n",
              "    .dataframe thead th {\n",
              "        text-align: right;\n",
              "    }\n",
              "</style>\n",
              "<table border=\"1\" class=\"dataframe\">\n",
              "  <thead>\n",
              "    <tr style=\"text-align: right;\">\n",
              "      <th></th>\n",
              "      <th></th>\n",
              "      <th>Deaths</th>\n",
              "    </tr>\n",
              "    <tr>\n",
              "      <th>Province/State</th>\n",
              "      <th>Country/Region</th>\n",
              "      <th></th>\n",
              "    </tr>\n",
              "  </thead>\n",
              "  <tbody>\n",
              "    <tr>\n",
              "      <th>England</th>\n",
              "      <th>UK</th>\n",
              "      <td>24042130.0</td>\n",
              "    </tr>\n",
              "    <tr>\n",
              "      <th>Sao Paulo</th>\n",
              "      <th>Brazil</th>\n",
              "      <td>17339593.0</td>\n",
              "    </tr>\n",
              "    <tr>\n",
              "      <th>New York</th>\n",
              "      <th>US</th>\n",
              "      <td>15531696.0</td>\n",
              "    </tr>\n",
              "  </tbody>\n",
              "</table>\n",
              "</div>"
            ],
            "text/plain": [
              "                                   Deaths\n",
              "Province/State Country/Region            \n",
              "England        UK              24042130.0\n",
              "Sao Paulo      Brazil          17339593.0\n",
              "New York       US              15531696.0"
            ]
          },
          "metadata": {},
          "execution_count": 12
        }
      ]
    },
    {
      "cell_type": "markdown",
      "metadata": {
        "id": "_qc9O7oTGGr2"
      },
      "source": [
        "## Task 3: Repeat the first two steps for Recovered and Confirmed cases as well.\n"
      ]
    },
    {
      "cell_type": "markdown",
      "metadata": {
        "id": "iDwsZLAqGTF3"
      },
      "source": [
        "### For Confirmed Cases"
      ]
    },
    {
      "cell_type": "markdown",
      "metadata": {
        "id": "-xmK1NV8GmDO"
      },
      "source": [
        "#### Ranking"
      ]
    },
    {
      "cell_type": "code",
      "metadata": {
        "colab": {
          "base_uri": "https://localhost:8080/",
          "height": 0
        },
        "id": "zyMVWtHXGKv3",
        "outputId": "2962584b-eac4-4081-f9d6-1a65bcb48f88"
      },
      "source": [
        "data = data.sort_values(by=\"Confirmed\", ascending=False)\n",
        "data[\"RankByConfirmed\"] = data[\"Confirmed\"].rank(method=\"min\")\n",
        "data"
      ],
      "execution_count": 13,
      "outputs": [
        {
          "output_type": "execute_result",
          "data": {
            "text/html": [
              "<div>\n",
              "<style scoped>\n",
              "    .dataframe tbody tr th:only-of-type {\n",
              "        vertical-align: middle;\n",
              "    }\n",
              "\n",
              "    .dataframe tbody tr th {\n",
              "        vertical-align: top;\n",
              "    }\n",
              "\n",
              "    .dataframe thead th {\n",
              "        text-align: right;\n",
              "    }\n",
              "</style>\n",
              "<table border=\"1\" class=\"dataframe\">\n",
              "  <thead>\n",
              "    <tr style=\"text-align: right;\">\n",
              "      <th></th>\n",
              "      <th>SNo</th>\n",
              "      <th>ObservationDate</th>\n",
              "      <th>Province/State</th>\n",
              "      <th>Country/Region</th>\n",
              "      <th>Last Update</th>\n",
              "      <th>Confirmed</th>\n",
              "      <th>Deaths</th>\n",
              "      <th>Recovered</th>\n",
              "      <th>RankByDeath</th>\n",
              "      <th>RankByConfirmed</th>\n",
              "    </tr>\n",
              "  </thead>\n",
              "  <tbody>\n",
              "    <tr>\n",
              "      <th>306127</th>\n",
              "      <td>306128</td>\n",
              "      <td>05/29/2021</td>\n",
              "      <td>Maharashtra</td>\n",
              "      <td>India</td>\n",
              "      <td>2021-05-30 04:20:55</td>\n",
              "      <td>5713215.0</td>\n",
              "      <td>94030.0</td>\n",
              "      <td>5339838.0</td>\n",
              "      <td>228176.0</td>\n",
              "      <td>228325.0</td>\n",
              "    </tr>\n",
              "    <tr>\n",
              "      <th>305362</th>\n",
              "      <td>305363</td>\n",
              "      <td>05/28/2021</td>\n",
              "      <td>Maharashtra</td>\n",
              "      <td>India</td>\n",
              "      <td>2021-05-29 04:20:41</td>\n",
              "      <td>5692920.0</td>\n",
              "      <td>93198.0</td>\n",
              "      <td>5307874.0</td>\n",
              "      <td>228172.0</td>\n",
              "      <td>228324.0</td>\n",
              "    </tr>\n",
              "    <tr>\n",
              "      <th>304597</th>\n",
              "      <td>304598</td>\n",
              "      <td>05/27/2021</td>\n",
              "      <td>Maharashtra</td>\n",
              "      <td>India</td>\n",
              "      <td>2021-05-28 04:20:36</td>\n",
              "      <td>5672180.0</td>\n",
              "      <td>92225.0</td>\n",
              "      <td>5276203.0</td>\n",
              "      <td>228167.0</td>\n",
              "      <td>228323.0</td>\n",
              "    </tr>\n",
              "    <tr>\n",
              "      <th>303832</th>\n",
              "      <td>303833</td>\n",
              "      <td>05/26/2021</td>\n",
              "      <td>Maharashtra</td>\n",
              "      <td>India</td>\n",
              "      <td>2021-05-27 04:20:59</td>\n",
              "      <td>5650907.0</td>\n",
              "      <td>91341.0</td>\n",
              "      <td>5241833.0</td>\n",
              "      <td>228164.0</td>\n",
              "      <td>228322.0</td>\n",
              "    </tr>\n",
              "    <tr>\n",
              "      <th>303067</th>\n",
              "      <td>303068</td>\n",
              "      <td>05/25/2021</td>\n",
              "      <td>Maharashtra</td>\n",
              "      <td>India</td>\n",
              "      <td>2021-05-26 04:20:35</td>\n",
              "      <td>5626155.0</td>\n",
              "      <td>90349.0</td>\n",
              "      <td>5218768.0</td>\n",
              "      <td>228160.0</td>\n",
              "      <td>228321.0</td>\n",
              "    </tr>\n",
              "    <tr>\n",
              "      <th>...</th>\n",
              "      <td>...</td>\n",
              "      <td>...</td>\n",
              "      <td>...</td>\n",
              "      <td>...</td>\n",
              "      <td>...</td>\n",
              "      <td>...</td>\n",
              "      <td>...</td>\n",
              "      <td>...</td>\n",
              "      <td>...</td>\n",
              "      <td>...</td>\n",
              "    </tr>\n",
              "    <tr>\n",
              "      <th>184014</th>\n",
              "      <td>184015</td>\n",
              "      <td>12/20/2020</td>\n",
              "      <td>Unknown</td>\n",
              "      <td>Mexico</td>\n",
              "      <td>2021-04-02 15:13:53</td>\n",
              "      <td>0.0</td>\n",
              "      <td>0.0</td>\n",
              "      <td>978002.0</td>\n",
              "      <td>1.0</td>\n",
              "      <td>1.0</td>\n",
              "    </tr>\n",
              "    <tr>\n",
              "      <th>245929</th>\n",
              "      <td>245930</td>\n",
              "      <td>03/11/2021</td>\n",
              "      <td>Unknown</td>\n",
              "      <td>Colombia</td>\n",
              "      <td>2021-04-02 15:13:53</td>\n",
              "      <td>0.0</td>\n",
              "      <td>0.0</td>\n",
              "      <td>0.0</td>\n",
              "      <td>1.0</td>\n",
              "      <td>1.0</td>\n",
              "    </tr>\n",
              "    <tr>\n",
              "      <th>190878</th>\n",
              "      <td>190879</td>\n",
              "      <td>12/29/2020</td>\n",
              "      <td>Unknown</td>\n",
              "      <td>India</td>\n",
              "      <td>2021-04-02 15:13:53</td>\n",
              "      <td>0.0</td>\n",
              "      <td>0.0</td>\n",
              "      <td>0.0</td>\n",
              "      <td>1.0</td>\n",
              "      <td>1.0</td>\n",
              "    </tr>\n",
              "    <tr>\n",
              "      <th>245931</th>\n",
              "      <td>245932</td>\n",
              "      <td>03/11/2021</td>\n",
              "      <td>Unknown</td>\n",
              "      <td>India</td>\n",
              "      <td>2021-04-02 15:13:53</td>\n",
              "      <td>0.0</td>\n",
              "      <td>0.0</td>\n",
              "      <td>0.0</td>\n",
              "      <td>1.0</td>\n",
              "      <td>1.0</td>\n",
              "    </tr>\n",
              "    <tr>\n",
              "      <th>15649</th>\n",
              "      <td>15650</td>\n",
              "      <td>04/15/2020</td>\n",
              "      <td>Saint Helena, Ascension and Tristan da Cunha</td>\n",
              "      <td>UK</td>\n",
              "      <td>2020-04-15 23:04:26</td>\n",
              "      <td>0.0</td>\n",
              "      <td>0.0</td>\n",
              "      <td>0.0</td>\n",
              "      <td>1.0</td>\n",
              "      <td>1.0</td>\n",
              "    </tr>\n",
              "  </tbody>\n",
              "</table>\n",
              "<p>228325 rows × 10 columns</p>\n",
              "</div>"
            ],
            "text/plain": [
              "           SNo ObservationDate  ... RankByDeath RankByConfirmed\n",
              "306127  306128      05/29/2021  ...    228176.0        228325.0\n",
              "305362  305363      05/28/2021  ...    228172.0        228324.0\n",
              "304597  304598      05/27/2021  ...    228167.0        228323.0\n",
              "303832  303833      05/26/2021  ...    228164.0        228322.0\n",
              "303067  303068      05/25/2021  ...    228160.0        228321.0\n",
              "...        ...             ...  ...         ...             ...\n",
              "184014  184015      12/20/2020  ...         1.0             1.0\n",
              "245929  245930      03/11/2021  ...         1.0             1.0\n",
              "190878  190879      12/29/2020  ...         1.0             1.0\n",
              "245931  245932      03/11/2021  ...         1.0             1.0\n",
              "15649    15650      04/15/2020  ...         1.0             1.0\n",
              "\n",
              "[228325 rows x 10 columns]"
            ]
          },
          "metadata": {},
          "execution_count": 13
        }
      ]
    },
    {
      "cell_type": "markdown",
      "metadata": {
        "id": "tATA7vlsGpCv"
      },
      "source": [
        "#### Most Affected Province with most number of Confirmed Cases\n"
      ]
    },
    {
      "cell_type": "code",
      "metadata": {
        "colab": {
          "base_uri": "https://localhost:8080/",
          "height": 0
        },
        "id": "aaue4YSHGyPG",
        "outputId": "cb5c3a65-0885-42e0-d984-51df04e966d4"
      },
      "source": [
        "countries_by_confirmed  = pd.DataFrame(data.groupby(['Province/State','Country/Region']).sum()['Confirmed'])\n",
        "countries_by_confirmed = countries_by_confirmed.sort_values(by=\"Confirmed\", ascending=False)\n",
        "most_affected_countries_confirmed = pd.DataFrame(countries_by_confirmed.iloc[:3])\n",
        "most_affected_countries_confirmed"
      ],
      "execution_count": 14,
      "outputs": [
        {
          "output_type": "execute_result",
          "data": {
            "text/html": [
              "<div>\n",
              "<style scoped>\n",
              "    .dataframe tbody tr th:only-of-type {\n",
              "        vertical-align: middle;\n",
              "    }\n",
              "\n",
              "    .dataframe tbody tr th {\n",
              "        vertical-align: top;\n",
              "    }\n",
              "\n",
              "    .dataframe thead th {\n",
              "        text-align: right;\n",
              "    }\n",
              "</style>\n",
              "<table border=\"1\" class=\"dataframe\">\n",
              "  <thead>\n",
              "    <tr style=\"text-align: right;\">\n",
              "      <th></th>\n",
              "      <th></th>\n",
              "      <th>Confirmed</th>\n",
              "    </tr>\n",
              "    <tr>\n",
              "      <th>Province/State</th>\n",
              "      <th>Country/Region</th>\n",
              "      <th></th>\n",
              "    </tr>\n",
              "  </thead>\n",
              "  <tbody>\n",
              "    <tr>\n",
              "      <th>California</th>\n",
              "      <th>US</th>\n",
              "      <td>696898013.0</td>\n",
              "    </tr>\n",
              "    <tr>\n",
              "      <th>Maharashtra</th>\n",
              "      <th>India</th>\n",
              "      <td>681186928.0</td>\n",
              "    </tr>\n",
              "    <tr>\n",
              "      <th>England</th>\n",
              "      <th>UK</th>\n",
              "      <td>666227518.0</td>\n",
              "    </tr>\n",
              "  </tbody>\n",
              "</table>\n",
              "</div>"
            ],
            "text/plain": [
              "                                 Confirmed\n",
              "Province/State Country/Region             \n",
              "California     US              696898013.0\n",
              "Maharashtra    India           681186928.0\n",
              "England        UK              666227518.0"
            ]
          },
          "metadata": {},
          "execution_count": 14
        }
      ]
    },
    {
      "cell_type": "markdown",
      "metadata": {
        "id": "pHogZVVEHeZf"
      },
      "source": [
        "### For Recovered Cases"
      ]
    },
    {
      "cell_type": "markdown",
      "metadata": {
        "id": "809XhRmUHeZi"
      },
      "source": [
        "#### Ranking"
      ]
    },
    {
      "cell_type": "code",
      "metadata": {
        "colab": {
          "base_uri": "https://localhost:8080/",
          "height": 424
        },
        "id": "qwtSixHtHeZj",
        "outputId": "b50848f7-ced8-4fbb-a38b-1164244f0cfa"
      },
      "source": [
        "data = data.sort_values(by=\"Recovered\", ascending=False)\n",
        "data[\"RankByRecovered\"] = data[\"Recovered\"].rank(method=\"min\")\n",
        "data"
      ],
      "execution_count": 15,
      "outputs": [
        {
          "output_type": "execute_result",
          "data": {
            "text/html": [
              "<div>\n",
              "<style scoped>\n",
              "    .dataframe tbody tr th:only-of-type {\n",
              "        vertical-align: middle;\n",
              "    }\n",
              "\n",
              "    .dataframe tbody tr th {\n",
              "        vertical-align: top;\n",
              "    }\n",
              "\n",
              "    .dataframe thead th {\n",
              "        text-align: right;\n",
              "    }\n",
              "</style>\n",
              "<table border=\"1\" class=\"dataframe\">\n",
              "  <thead>\n",
              "    <tr style=\"text-align: right;\">\n",
              "      <th></th>\n",
              "      <th>SNo</th>\n",
              "      <th>ObservationDate</th>\n",
              "      <th>Province/State</th>\n",
              "      <th>Country/Region</th>\n",
              "      <th>Last Update</th>\n",
              "      <th>Confirmed</th>\n",
              "      <th>Deaths</th>\n",
              "      <th>Recovered</th>\n",
              "      <th>RankByDeath</th>\n",
              "      <th>RankByConfirmed</th>\n",
              "      <th>RankByRecovered</th>\n",
              "    </tr>\n",
              "  </thead>\n",
              "  <tbody>\n",
              "    <tr>\n",
              "      <th>179328</th>\n",
              "      <td>179329</td>\n",
              "      <td>12/14/2020</td>\n",
              "      <td>Recovered</td>\n",
              "      <td>US</td>\n",
              "      <td>2021-04-02 15:13:53</td>\n",
              "      <td>0.0</td>\n",
              "      <td>0.0</td>\n",
              "      <td>6399531.0</td>\n",
              "      <td>1.0</td>\n",
              "      <td>1.0</td>\n",
              "      <td>228325.0</td>\n",
              "    </tr>\n",
              "    <tr>\n",
              "      <th>178565</th>\n",
              "      <td>178566</td>\n",
              "      <td>12/13/2020</td>\n",
              "      <td>Recovered</td>\n",
              "      <td>US</td>\n",
              "      <td>2021-04-02 15:13:53</td>\n",
              "      <td>0.0</td>\n",
              "      <td>0.0</td>\n",
              "      <td>6298082.0</td>\n",
              "      <td>1.0</td>\n",
              "      <td>1.0</td>\n",
              "      <td>228324.0</td>\n",
              "    </tr>\n",
              "    <tr>\n",
              "      <th>177802</th>\n",
              "      <td>177803</td>\n",
              "      <td>12/12/2020</td>\n",
              "      <td>Recovered</td>\n",
              "      <td>US</td>\n",
              "      <td>2021-04-02 15:13:53</td>\n",
              "      <td>0.0</td>\n",
              "      <td>0.0</td>\n",
              "      <td>6246605.0</td>\n",
              "      <td>1.0</td>\n",
              "      <td>1.0</td>\n",
              "      <td>228323.0</td>\n",
              "    </tr>\n",
              "    <tr>\n",
              "      <th>177039</th>\n",
              "      <td>177040</td>\n",
              "      <td>12/11/2020</td>\n",
              "      <td>Recovered</td>\n",
              "      <td>US</td>\n",
              "      <td>2021-04-02 15:13:53</td>\n",
              "      <td>0.0</td>\n",
              "      <td>0.0</td>\n",
              "      <td>6135314.0</td>\n",
              "      <td>1.0</td>\n",
              "      <td>1.0</td>\n",
              "      <td>228322.0</td>\n",
              "    </tr>\n",
              "    <tr>\n",
              "      <th>176276</th>\n",
              "      <td>176277</td>\n",
              "      <td>12/10/2020</td>\n",
              "      <td>Recovered</td>\n",
              "      <td>US</td>\n",
              "      <td>2021-04-02 15:13:53</td>\n",
              "      <td>0.0</td>\n",
              "      <td>0.0</td>\n",
              "      <td>5985047.0</td>\n",
              "      <td>1.0</td>\n",
              "      <td>1.0</td>\n",
              "      <td>228321.0</td>\n",
              "    </tr>\n",
              "    <tr>\n",
              "      <th>...</th>\n",
              "      <td>...</td>\n",
              "      <td>...</td>\n",
              "      <td>...</td>\n",
              "      <td>...</td>\n",
              "      <td>...</td>\n",
              "      <td>...</td>\n",
              "      <td>...</td>\n",
              "      <td>...</td>\n",
              "      <td>...</td>\n",
              "      <td>...</td>\n",
              "      <td>...</td>\n",
              "    </tr>\n",
              "    <tr>\n",
              "      <th>106046</th>\n",
              "      <td>106047</td>\n",
              "      <td>09/08/2020</td>\n",
              "      <td>Florida</td>\n",
              "      <td>US</td>\n",
              "      <td>2021-04-02 15:13:53</td>\n",
              "      <td>650092.0</td>\n",
              "      <td>11915.0</td>\n",
              "      <td>0.0</td>\n",
              "      <td>220581.0</td>\n",
              "      <td>222692.0</td>\n",
              "      <td>1.0</td>\n",
              "    </tr>\n",
              "    <tr>\n",
              "      <th>191500</th>\n",
              "      <td>191501</td>\n",
              "      <td>12/30/2020</td>\n",
              "      <td>Ostergotland</td>\n",
              "      <td>Sweden</td>\n",
              "      <td>2021-04-02 15:13:53</td>\n",
              "      <td>13869.0</td>\n",
              "      <td>360.0</td>\n",
              "      <td>0.0</td>\n",
              "      <td>126817.0</td>\n",
              "      <td>119853.0</td>\n",
              "      <td>1.0</td>\n",
              "    </tr>\n",
              "    <tr>\n",
              "      <th>137593</th>\n",
              "      <td>137594</td>\n",
              "      <td>10/20/2020</td>\n",
              "      <td>Moquegua</td>\n",
              "      <td>Peru</td>\n",
              "      <td>2021-04-02 15:13:53</td>\n",
              "      <td>13870.0</td>\n",
              "      <td>275.0</td>\n",
              "      <td>0.0</td>\n",
              "      <td>118675.0</td>\n",
              "      <td>119866.0</td>\n",
              "      <td>1.0</td>\n",
              "    </tr>\n",
              "    <tr>\n",
              "      <th>273515</th>\n",
              "      <td>273516</td>\n",
              "      <td>04/16/2021</td>\n",
              "      <td>Wisconsin</td>\n",
              "      <td>US</td>\n",
              "      <td>2021-04-17 04:20:40</td>\n",
              "      <td>650081.0</td>\n",
              "      <td>7412.0</td>\n",
              "      <td>0.0</td>\n",
              "      <td>213585.0</td>\n",
              "      <td>222691.0</td>\n",
              "      <td>1.0</td>\n",
              "    </tr>\n",
              "    <tr>\n",
              "      <th>15649</th>\n",
              "      <td>15650</td>\n",
              "      <td>04/15/2020</td>\n",
              "      <td>Saint Helena, Ascension and Tristan da Cunha</td>\n",
              "      <td>UK</td>\n",
              "      <td>2020-04-15 23:04:26</td>\n",
              "      <td>0.0</td>\n",
              "      <td>0.0</td>\n",
              "      <td>0.0</td>\n",
              "      <td>1.0</td>\n",
              "      <td>1.0</td>\n",
              "      <td>1.0</td>\n",
              "    </tr>\n",
              "  </tbody>\n",
              "</table>\n",
              "<p>228325 rows × 11 columns</p>\n",
              "</div>"
            ],
            "text/plain": [
              "           SNo ObservationDate  ... RankByConfirmed RankByRecovered\n",
              "179328  179329      12/14/2020  ...             1.0        228325.0\n",
              "178565  178566      12/13/2020  ...             1.0        228324.0\n",
              "177802  177803      12/12/2020  ...             1.0        228323.0\n",
              "177039  177040      12/11/2020  ...             1.0        228322.0\n",
              "176276  176277      12/10/2020  ...             1.0        228321.0\n",
              "...        ...             ...  ...             ...             ...\n",
              "106046  106047      09/08/2020  ...        222692.0             1.0\n",
              "191500  191501      12/30/2020  ...        119853.0             1.0\n",
              "137593  137594      10/20/2020  ...        119866.0             1.0\n",
              "273515  273516      04/16/2021  ...        222691.0             1.0\n",
              "15649    15650      04/15/2020  ...             1.0             1.0\n",
              "\n",
              "[228325 rows x 11 columns]"
            ]
          },
          "metadata": {},
          "execution_count": 15
        }
      ]
    },
    {
      "cell_type": "markdown",
      "metadata": {
        "id": "wpY9REnAHeZl"
      },
      "source": [
        "#### Most Affected Province with most number of Recovered Cases\n"
      ]
    },
    {
      "cell_type": "code",
      "metadata": {
        "colab": {
          "base_uri": "https://localhost:8080/",
          "height": 175
        },
        "id": "eYYDS08EHeZm",
        "outputId": "0feb7540-5b47-4f7a-bacc-63ca0607fb50"
      },
      "source": [
        "countries_by_recovered  = pd.DataFrame(data.groupby(['Province/State','Country/Region']).sum()['Recovered'])\n",
        "countries_by_recovered = countries_by_recovered.sort_values(by=\"Recovered\", ascending=False)\n",
        "most_affected_countries_recovered = pd.DataFrame(countries_by_recovered.iloc[:3])\n",
        "most_affected_countries_recovered"
      ],
      "execution_count": 16,
      "outputs": [
        {
          "output_type": "execute_result",
          "data": {
            "text/html": [
              "<div>\n",
              "<style scoped>\n",
              "    .dataframe tbody tr th:only-of-type {\n",
              "        vertical-align: middle;\n",
              "    }\n",
              "\n",
              "    .dataframe tbody tr th {\n",
              "        vertical-align: top;\n",
              "    }\n",
              "\n",
              "    .dataframe thead th {\n",
              "        text-align: right;\n",
              "    }\n",
              "</style>\n",
              "<table border=\"1\" class=\"dataframe\">\n",
              "  <thead>\n",
              "    <tr style=\"text-align: right;\">\n",
              "      <th></th>\n",
              "      <th></th>\n",
              "      <th>Recovered</th>\n",
              "    </tr>\n",
              "    <tr>\n",
              "      <th>Province/State</th>\n",
              "      <th>Country/Region</th>\n",
              "      <th></th>\n",
              "    </tr>\n",
              "  </thead>\n",
              "  <tbody>\n",
              "    <tr>\n",
              "      <th>Maharashtra</th>\n",
              "      <th>India</th>\n",
              "      <td>597480809.0</td>\n",
              "    </tr>\n",
              "    <tr>\n",
              "      <th>Recovered</th>\n",
              "      <th>US</th>\n",
              "      <td>503370163.0</td>\n",
              "    </tr>\n",
              "    <tr>\n",
              "      <th>Sao Paulo</th>\n",
              "      <th>Brazil</th>\n",
              "      <td>444187689.0</td>\n",
              "    </tr>\n",
              "  </tbody>\n",
              "</table>\n",
              "</div>"
            ],
            "text/plain": [
              "                                 Recovered\n",
              "Province/State Country/Region             \n",
              "Maharashtra    India           597480809.0\n",
              "Recovered      US              503370163.0\n",
              "Sao Paulo      Brazil          444187689.0"
            ]
          },
          "metadata": {},
          "execution_count": 16
        }
      ]
    },
    {
      "cell_type": "markdown",
      "metadata": {
        "id": "3rzo9ICEIAnY"
      },
      "source": [
        "## Task 4: Plot a bar graph for the top 10 states in China and US in accordance with the death cases, and recovered cases."
      ]
    },
    {
      "cell_type": "code",
      "metadata": {
        "colab": {
          "base_uri": "https://localhost:8080/",
          "height": 1000
        },
        "id": "wFXhjKBATm1b",
        "outputId": "ae04c123-f4f9-4311-b4e5-e259c04c634b"
      },
      "source": [
        "## Death Plot\n",
        "\n",
        "china = pd.DataFrame(data.loc[data['Country/Region'].isin(['China', 'Mainland China'])])\n",
        "p_china = pd.DataFrame(china.groupby(['Province/State','Country/Region']).sum()['Deaths'])\n",
        "p_china.reset_index(inplace=True)\n",
        "cases_china = p_china.sort_values(by='Deaths', ascending=False).head(10)\n",
        "print(\"\\n\",cases_china)\n",
        "\n",
        "us = pd.DataFrame(data.loc[data['Country/Region'].isin(['US'])])\n",
        "p_us = pd.DataFrame(us.groupby(['Province/State','Country/Region']).sum()['Deaths'])\n",
        "p_us.reset_index(inplace=True)\n",
        "cases_us = p_us.sort_values(by='Deaths', ascending=False).head(10)\n",
        "print(\"\\n\",cases_us)\n",
        "\n",
        "cases = cases_us.append(cases_china)\n",
        "\n",
        "print(\"\\n\",cases)\n",
        "sns.barplot(x= cases['Province/State'] ,y= cases.Deaths, data=pd.melt(cases))\n",
        "plt.xticks(rotation=90)\n",
        "sns.set(rc={\"figure.figsize\":(15, 4)})\n",
        "plt.show()"
      ],
      "execution_count": 17,
      "outputs": [
        {
          "output_type": "stream",
          "name": "stdout",
          "text": [
            "\n",
            "    Province/State  Country/Region     Deaths\n",
            "12          Hubei  Mainland China  2032612.0\n",
            "11          Henan  Mainland China    10360.0\n",
            "10   Heilongjiang  Mainland China     6174.0\n",
            "1         Beijing  Mainland China     4137.0\n",
            "5       Guangdong  Mainland China     3721.0\n",
            "22       Shandong  Mainland China     3245.0\n",
            "23       Shanghai  Mainland China     3125.0\n",
            "9           Hebei  Mainland China     2972.0\n",
            "2       Chongqing  Mainland China     2849.0\n",
            "0           Anhui  Mainland China     2843.0\n",
            "\n",
            "     Province/State Country/Region      Deaths\n",
            "109       New York             US  15531696.0\n",
            "14      California             US  10831870.0\n",
            "168          Texas             US   9517809.0\n",
            "107     New Jersey             US   7323817.0\n",
            "44         Florida             US   7261979.0\n",
            "65        Illinois             US   5589797.0\n",
            "124   Pennsylvania             US   5520992.0\n",
            "93   Massachusetts             US   4628938.0\n",
            "94        Michigan             US   4365856.0\n",
            "49         Georgia             US   3977382.0\n",
            "\n",
            "     Province/State  Country/Region      Deaths\n",
            "109       New York              US  15531696.0\n",
            "14      California              US  10831870.0\n",
            "168          Texas              US   9517809.0\n",
            "107     New Jersey              US   7323817.0\n",
            "44         Florida              US   7261979.0\n",
            "65        Illinois              US   5589797.0\n",
            "124   Pennsylvania              US   5520992.0\n",
            "93   Massachusetts              US   4628938.0\n",
            "94        Michigan              US   4365856.0\n",
            "49         Georgia              US   3977382.0\n",
            "12           Hubei  Mainland China   2032612.0\n",
            "11           Henan  Mainland China     10360.0\n",
            "10    Heilongjiang  Mainland China      6174.0\n",
            "1          Beijing  Mainland China      4137.0\n",
            "5        Guangdong  Mainland China      3721.0\n",
            "22        Shandong  Mainland China      3245.0\n",
            "23        Shanghai  Mainland China      3125.0\n",
            "9            Hebei  Mainland China      2972.0\n",
            "2        Chongqing  Mainland China      2849.0\n",
            "0            Anhui  Mainland China      2843.0\n"
          ]
        },
        {
          "output_type": "display_data",
          "data": {
            "image/png": "[encoded data removed]",
            "text/plain": [
              "<Figure size 432x288 with 1 Axes>"
            ]
          },
          "metadata": {
            "needs_background": "light"
          }
        }
      ]
    },
    {
      "cell_type": "code",
      "metadata": {
        "colab": {
          "base_uri": "https://localhost:8080/",
          "height": 1000
        },
        "id": "K56aupApWPdW",
        "outputId": "d25db79e-bb9b-4aa1-e298-6ee114eaa212"
      },
      "source": [
        "## Recovered Plot\n",
        "\n",
        "china_r = pd.DataFrame(data.loc[data['Country/Region'].isin(['China', 'Mainland China'])])\n",
        "p_china_r = pd.DataFrame(china_r.groupby(['Province/State','Country/Region']).sum()['Recovered'])\n",
        "p_china_r.reset_index(inplace=True)\n",
        "cases_china_r = p_china_r.sort_values(by='Recovered', ascending=False).head(10)\n",
        "print(\"\\n\",cases_china_r)\n",
        "\n",
        "us_r = pd.DataFrame(data.loc[data['Country/Region'].isin(['US'])])\n",
        "p_us_r = pd.DataFrame(us.groupby(['Province/State','Country/Region']).sum()['Recovered'])\n",
        "p_us_r.reset_index(inplace=True)\n",
        "cases_us_r = p_us_r.sort_values(by='Recovered', ascending=False).head(10)\n",
        "print(\"\\n\",cases_us_r)\n",
        "\n",
        "cases_r = cases_china_r.append(cases_us_r)\n",
        "\n",
        "print(\"\\n\",cases_r)\n",
        "sns.barplot(x= cases_r['Province/State'] ,y= cases_r.Recovered, data=pd.melt(cases_r))\n",
        "plt.xticks(rotation=90)\n",
        "sns.set(rc={\"figure.figsize\":(20, 4)})\n",
        "plt.show()"
      ],
      "execution_count": 18,
      "outputs": [
        {
          "output_type": "stream",
          "name": "stdout",
          "text": [
            "\n",
            "    Province/State  Country/Region   Recovered\n",
            "12          Hubei  Mainland China  28859431.0\n",
            "5       Guangdong  Mainland China    850792.0\n",
            "32       Zhejiang  Mainland China    594885.0\n",
            "11          Henan  Mainland China    588730.0\n",
            "23       Shanghai  Mainland China    510078.0\n",
            "13          Hunan  Mainland China    475041.0\n",
            "10   Heilongjiang  Mainland China    471978.0\n",
            "0           Anhui  Mainland China    457643.0\n",
            "16        Jiangxi  Mainland China    433485.0\n",
            "1         Beijing  Mainland China    380764.0\n",
            "\n",
            "            Province/State Country/Region    Recovered\n",
            "136             Recovered             US  503370163.0\n",
            "172                    US             US        532.0\n",
            "21            Chicago, IL             US         44.0\n",
            "14             California             US         40.0\n",
            "153           Seattle, WA             US         22.0\n",
            "144  San Diego County, CA             US         18.0\n",
            "29        Cook County, IL             US         16.0\n",
            "65               Illinois             US         16.0\n",
            "148       Santa Clara, CA             US         15.0\n",
            "166             Tempe, AZ             US         11.0\n",
            "\n",
            "            Province/State  Country/Region    Recovered\n",
            "12                  Hubei  Mainland China   28859431.0\n",
            "5               Guangdong  Mainland China     850792.0\n",
            "32               Zhejiang  Mainland China     594885.0\n",
            "11                  Henan  Mainland China     588730.0\n",
            "23               Shanghai  Mainland China     510078.0\n",
            "13                  Hunan  Mainland China     475041.0\n",
            "10           Heilongjiang  Mainland China     471978.0\n",
            "0                   Anhui  Mainland China     457643.0\n",
            "16                Jiangxi  Mainland China     433485.0\n",
            "1                 Beijing  Mainland China     380764.0\n",
            "136             Recovered              US  503370163.0\n",
            "172                    US              US        532.0\n",
            "21            Chicago, IL              US         44.0\n",
            "14             California              US         40.0\n",
            "153           Seattle, WA              US         22.0\n",
            "144  San Diego County, CA              US         18.0\n",
            "29        Cook County, IL              US         16.0\n",
            "65               Illinois              US         16.0\n",
            "148       Santa Clara, CA              US         15.0\n",
            "166             Tempe, AZ              US         11.0\n"
          ]
        },
        {
          "output_type": "display_data",
          "data": {
            "image/png": "[encoded data removed]",
            "text/plain": [
              "<Figure size 1080x288 with 1 Axes>"
            ]
          },
          "metadata": {}
        }
      ]
    },
    {
      "cell_type": "markdown",
      "metadata": {
        "id": "zGSPi16HR02y"
      },
      "source": [
        "## Task 5: Plot the confirmed, deaths and recovered cases as line graphs with dates for the US, Iran, and China each.\n"
      ]
    },
    {
      "cell_type": "code",
      "metadata": {
        "colab": {
          "base_uri": "https://localhost:8080/",
          "height": 1000
        },
        "id": "DW8U4bRUSdJy",
        "outputId": "988da37d-b186-4c79-c554-a5c985f1769d"
      },
      "source": [
        "countries_of_interest = [\"US\", \"China\", \"Mainland China\", \"Iran\"]\n",
        "\n",
        "countries = pd.DataFrame(data.loc[data['Country/Region'].isin(countries_of_interest)])\n",
        "countries = pd.DataFrame(countries.groupby(['Province/State','Country/Region']).sum())\n",
        "\n",
        "p_confirmed = pd.DataFrame(countries.groupby(['Country/Region']).sum()['Confirmed'])\n",
        "p_confirmed.reset_index(inplace=True)\n",
        "cases_confirmed = p_confirmed.sort_values(by='Confirmed', ascending=False).head(25)\n",
        "\n",
        "sns.lineplot(x= cases_confirmed['Country/Region'] ,y= cases_confirmed.Confirmed, data=pd.melt(cases_confirmed), palette=\"dark:salmon_r\")\n",
        "plt.xticks(rotation=90)\n",
        "sns.set(rc={\"figure.figsize\":(15, 4)})\n",
        "sns.set_theme(style='ticks')\n",
        "plt.show()\n",
        "\n",
        "p_recovered = pd.DataFrame(countries.groupby(['Country/Region']).sum()['Recovered'])\n",
        "p_recovered.reset_index(inplace=True)\n",
        "cases_recovered = p_recovered.sort_values(by='Recovered', ascending=False).head(25)\n",
        "\n",
        "sns.lineplot(x= cases_recovered['Country/Region'] ,y= cases_recovered.Recovered, data=pd.melt(cases_recovered), palette=\"dark:salmon_r\")\n",
        "plt.xticks(rotation=90)\n",
        "sns.set(rc={\"figure.figsize\":(15, 4)})\n",
        "sns.set_theme(style='ticks')\n",
        "plt.show()\n",
        "\n",
        "p_death = pd.DataFrame(countries.groupby(['Country/Region']).sum()['Deaths'])\n",
        "p_death.reset_index(inplace=True)\n",
        "cases = p_death.sort_values(by='Deaths', ascending=False).head(25)\n",
        "\n",
        "sns.lineplot(x= cases['Country/Region'] ,y= cases.Deaths, data=pd.melt(cases), palette=\"dark:salmon_r\")\n",
        "plt.xticks(rotation=90)\n",
        "sns.set(rc={\"figure.figsize\":(15, 4)})\n",
        "sns.set_theme(style='ticks')\n",
        "plt.show()\n"
      ],
      "execution_count": 19,
      "outputs": [
        {
          "output_type": "display_data",
          "data": {
            "image/png": "[encoded data removed]",
            "text/plain": [
              "<Figure size 1440x288 with 1 Axes>"
            ]
          },
          "metadata": {}
        },
        {
          "output_type": "display_data",
          "data": {
            "image/png": "[encoded data removed]",
            "text/plain": [
              "<Figure size 1080x288 with 1 Axes>"
            ]
          },
          "metadata": {}
        },
        {
          "output_type": "display_data",
          "data": {
            "image/png": "[encoded data removed]",
            "text/plain": [
              "<Figure size 1080x288 with 1 Axes>"
            ]
          },
          "metadata": {}
        }
      ]
    },
    {
      "cell_type": "markdown",
      "metadata": {
        "id": "9PUz-ULUSgOF"
      },
      "source": [
        "## Task 6: Looking at the plots, explain which country has seen a surge in confirmed, and death cases?"
      ]
    },
    {
      "cell_type": "markdown",
      "metadata": {
        "id": "4yYB-gf3rWCX"
      },
      "source": [
        "According to the graphs US has seen surge in the confirmed and death cases"
      ]
    },
    {
      "cell_type": "markdown",
      "metadata": {
        "id": "qpYZdDerSk3s"
      },
      "source": [
        "## Task 7: Work out the death rate due to COVID-19 in these three countries."
      ]
    },
    {
      "cell_type": "code",
      "metadata": {
        "colab": {
          "base_uri": "https://localhost:8080/",
          "height": 143
        },
        "id": "4gB76oRKSwhM",
        "outputId": "26306f39-1f10-4b1d-8693-18e4882c2a47"
      },
      "source": [
        "countries = pd.DataFrame(data.loc[data['Country/Region'].isin(countries_of_interest)])\n",
        "\n",
        "countries['Deaths'] = countries['Deaths'].astype('int64')\n",
        "\n",
        "rec = pd.DataFrame(countries[['Deaths']].value_counts(normalize=True)*100)\n",
        "rec.reset_index(inplace=True)\n",
        "rec.rename(columns = {0:'Rate'}, inplace=True)\n",
        "\n",
        "rec['Country/Region'] = countries['Country/Region'].copy()\n",
        "\n",
        "rec = rec.groupby('Country/Region').sum()\n",
        "rec.reset_index(inplace=True)\n",
        "rec[['Deaths']].value_counts(normalize=True)*100\n",
        "\n",
        "rec['Country/Region'] = rec['Country/Region'].astype('str')\n",
        "\n",
        "rec"
      ],
      "execution_count": 20,
      "outputs": [
        {
          "output_type": "execute_result",
          "data": {
            "text/html": [
              "<div>\n",
              "<style scoped>\n",
              "    .dataframe tbody tr th:only-of-type {\n",
              "        vertical-align: middle;\n",
              "    }\n",
              "\n",
              "    .dataframe tbody tr th {\n",
              "        vertical-align: top;\n",
              "    }\n",
              "\n",
              "    .dataframe thead th {\n",
              "        text-align: right;\n",
              "    }\n",
              "</style>\n",
              "<table border=\"1\" class=\"dataframe\">\n",
              "  <thead>\n",
              "    <tr style=\"text-align: right;\">\n",
              "      <th></th>\n",
              "      <th>Country/Region</th>\n",
              "      <th>Deaths</th>\n",
              "      <th>Rate</th>\n",
              "    </tr>\n",
              "  </thead>\n",
              "  <tbody>\n",
              "    <tr>\n",
              "      <th>0</th>\n",
              "      <td>China</td>\n",
              "      <td>166858</td>\n",
              "      <td>0.571147</td>\n",
              "    </tr>\n",
              "    <tr>\n",
              "      <th>1</th>\n",
              "      <td>Mainland China</td>\n",
              "      <td>14110415</td>\n",
              "      <td>66.716025</td>\n",
              "    </tr>\n",
              "    <tr>\n",
              "      <th>2</th>\n",
              "      <td>US</td>\n",
              "      <td>22214953</td>\n",
              "      <td>7.528322</td>\n",
              "    </tr>\n",
              "  </tbody>\n",
              "</table>\n",
              "</div>"
            ],
            "text/plain": [
              "   Country/Region    Deaths       Rate\n",
              "0           China    166858   0.571147\n",
              "1  Mainland China  14110415  66.716025\n",
              "2              US  22214953   7.528322"
            ]
          },
          "metadata": {},
          "execution_count": 20
        }
      ]
    },
    {
      "cell_type": "markdown",
      "metadata": {
        "id": "k2NOfTS-SnSG"
      },
      "source": [
        "## Task 8: By examining the plots, which country has been able to efficiently and swiftly recover the confirmed cases? Work out the recovery rate for each country (US, Iran, and China) and then answer the question?"
      ]
    },
    {
      "cell_type": "code",
      "metadata": {
        "colab": {
          "base_uri": "https://localhost:8080/",
          "height": 360
        },
        "id": "jMvcwLeySw5E",
        "outputId": "82548f95-76f3-4bfd-8eab-38082030ec63"
      },
      "source": [
        "countries = pd.DataFrame(data.loc[data['Country/Region'].isin(countries_of_interest)])\n",
        "\n",
        "countries['Confirmed'] = countries['Confirmed'].astype('int64')\n",
        "countries['Recovered'] = countries['Recovered'].astype('int64')\n",
        "\n",
        "rec = pd.DataFrame(countries[['Recovered', 'Confirmed']].value_counts(normalize=True)*100)\n",
        "rec.reset_index(inplace=True)\n",
        "rec.rename(columns = {0:'Rate'}, inplace=True)\n",
        "\n",
        "rec['Country/Region'] = countries['Country/Region'].copy()\n",
        "\n",
        "rec = rec.groupby('Country/Region').sum()\n",
        "rec.reset_index(inplace=True)\n",
        "rec[['Recovered', 'Confirmed']].value_counts(normalize=True)*100\n",
        "\n",
        "rec['Country/Region'] = rec['Country/Region'].astype('str')\n",
        "\n",
        "sns.lineplot(x= rec['Country/Region'], y= rec.Rate, data=rec)\n",
        "sns.set_theme(style='darkgrid')\n",
        "plt.xticks(rotation=90)\n",
        "plt.show()"
      ],
      "execution_count": 21,
      "outputs": [
        {
          "output_type": "display_data",
          "data": {
            "image/png": "[encoded data removed]",
            "text/plain": [
              "<Figure size 1080x288 with 1 Axes>"
            ]
          },
          "metadata": {}
        }
      ]
    },
    {
      "cell_type": "markdown",
      "metadata": {
        "id": "rIV--Fo9r_0d"
      },
      "source": [
        "From Graph it is evident that China has highest recovery rate. "
      ]
    }
  ]
}