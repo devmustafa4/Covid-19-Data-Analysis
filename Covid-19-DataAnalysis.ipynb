{
  "nbformat": 4,
  "nbformat_minor": 0,
  "metadata": {
    "colab": {
      "name": "Untitled0.ipynb",
      "provenance": [],
      "collapsed_sections": [
        "xliwRSgQ97tD",
        "GGru8iLM9zUl",
        "iDwsZLAqGTF3"
      ],
      "authorship_tag": "ABX9TyOhD3XysBCRFpLSCQW2lMZN",
      "include_colab_link": true
    },
    "kernelspec": {
      "name": "python3",
      "display_name": "Python 3"
    },
    "language_info": {
      "name": "python"
    }
  },
  "cells": [
    {
      "cell_type": "markdown",
      "metadata": {
        "id": "view-in-github",
        "colab_type": "text"
      },
      "source": [
        "<a href=\"https://colab.research.google.com/github/devmustafa4/Covid-19-Data-Analysis/blob/main/Covid-19-DataAnalysis.ipynb\" target=\"_parent\"><img src=\"https://colab.research.google.com/assets/colab-badge.svg\" alt=\"Open In Colab\"/></a>"
      ]
    },
    {
      "cell_type": "markdown",
      "metadata": {
        "id": "yGCKUAm21UAH"
      },
      "source": [
        "# Importing necessary files\n"
      ]
    },
    {
      "cell_type": "code",
      "metadata": {
        "id": "dM7fb-aP1Qlh"
      },
      "source": [
        "import numpy as np \n",
        "import pandas as pd \n",
        "import os\n",
        "from google.colab import drive\n",
        "import seaborn as sns\n",
        "import matplotlib.pyplot as plt\n",
        "from scipy import stats\n",
        "\n",
        "from pandas import read_csv"
      ],
      "execution_count": 2,
      "outputs": []
    },
    {
      "cell_type": "markdown",
      "metadata": {
        "id": "UXl1P1br1khb"
      },
      "source": [
        "# Mounting the drive"
      ]
    },
    {
      "cell_type": "code",
      "metadata": {
        "colab": {
          "base_uri": "https://localhost:8080/"
        },
        "id": "zN6QfwuK1od5",
        "outputId": "88c1ccde-e49f-4a86-c40d-8ade0854839a"
      },
      "source": [
        "drive.mount('/content/drive')"
      ],
      "execution_count": 6,
      "outputs": [
        {
          "output_type": "stream",
          "name": "stdout",
          "text": [
            "Drive already mounted at /content/drive; to attempt to forcibly remount, call drive.mount(\"/content/drive\", force_remount=True).\n"
          ]
        }
      ]
    },
    {
      "cell_type": "markdown",
      "metadata": {
        "id": "AQSmA0xF3ua0"
      },
      "source": [
        "#  Loading the data\n"
      ]
    },
    {
      "cell_type": "code",
      "metadata": {
        "colab": {
          "base_uri": "https://localhost:8080/",
          "height": 206
        },
        "id": "f4nUfZwj3u7z",
        "outputId": "8de15b59-7a72-4e77-b253-35f4c1e4ca8f"
      },
      "source": [
        "data = read_csv('drive/MyDrive/LearnOClock/covid_19_data.csv')\n",
        "data.head()"
      ],
      "execution_count": 211,
      "outputs": [
        {
          "output_type": "execute_result",
          "data": {
            "text/html": [
              "<div>\n",
              "<style scoped>\n",
              "    .dataframe tbody tr th:only-of-type {\n",
              "        vertical-align: middle;\n",
              "    }\n",
              "\n",
              "    .dataframe tbody tr th {\n",
              "        vertical-align: top;\n",
              "    }\n",
              "\n",
              "    .dataframe thead th {\n",
              "        text-align: right;\n",
              "    }\n",
              "</style>\n",
              "<table border=\"1\" class=\"dataframe\">\n",
              "  <thead>\n",
              "    <tr style=\"text-align: right;\">\n",
              "      <th></th>\n",
              "      <th>SNo</th>\n",
              "      <th>ObservationDate</th>\n",
              "      <th>Province/State</th>\n",
              "      <th>Country/Region</th>\n",
              "      <th>Last Update</th>\n",
              "      <th>Confirmed</th>\n",
              "      <th>Deaths</th>\n",
              "      <th>Recovered</th>\n",
              "    </tr>\n",
              "  </thead>\n",
              "  <tbody>\n",
              "    <tr>\n",
              "      <th>0</th>\n",
              "      <td>1</td>\n",
              "      <td>01/22/2020</td>\n",
              "      <td>Anhui</td>\n",
              "      <td>Mainland China</td>\n",
              "      <td>1/22/2020 17:00</td>\n",
              "      <td>1.0</td>\n",
              "      <td>0.0</td>\n",
              "      <td>0.0</td>\n",
              "    </tr>\n",
              "    <tr>\n",
              "      <th>1</th>\n",
              "      <td>2</td>\n",
              "      <td>01/22/2020</td>\n",
              "      <td>Beijing</td>\n",
              "      <td>Mainland China</td>\n",
              "      <td>1/22/2020 17:00</td>\n",
              "      <td>14.0</td>\n",
              "      <td>0.0</td>\n",
              "      <td>0.0</td>\n",
              "    </tr>\n",
              "    <tr>\n",
              "      <th>2</th>\n",
              "      <td>3</td>\n",
              "      <td>01/22/2020</td>\n",
              "      <td>Chongqing</td>\n",
              "      <td>Mainland China</td>\n",
              "      <td>1/22/2020 17:00</td>\n",
              "      <td>6.0</td>\n",
              "      <td>0.0</td>\n",
              "      <td>0.0</td>\n",
              "    </tr>\n",
              "    <tr>\n",
              "      <th>3</th>\n",
              "      <td>4</td>\n",
              "      <td>01/22/2020</td>\n",
              "      <td>Fujian</td>\n",
              "      <td>Mainland China</td>\n",
              "      <td>1/22/2020 17:00</td>\n",
              "      <td>1.0</td>\n",
              "      <td>0.0</td>\n",
              "      <td>0.0</td>\n",
              "    </tr>\n",
              "    <tr>\n",
              "      <th>4</th>\n",
              "      <td>5</td>\n",
              "      <td>01/22/2020</td>\n",
              "      <td>Gansu</td>\n",
              "      <td>Mainland China</td>\n",
              "      <td>1/22/2020 17:00</td>\n",
              "      <td>0.0</td>\n",
              "      <td>0.0</td>\n",
              "      <td>0.0</td>\n",
              "    </tr>\n",
              "  </tbody>\n",
              "</table>\n",
              "</div>"
            ],
            "text/plain": [
              "   SNo ObservationDate Province/State  ... Confirmed Deaths  Recovered\n",
              "0    1      01/22/2020          Anhui  ...       1.0    0.0        0.0\n",
              "1    2      01/22/2020        Beijing  ...      14.0    0.0        0.0\n",
              "2    3      01/22/2020      Chongqing  ...       6.0    0.0        0.0\n",
              "3    4      01/22/2020         Fujian  ...       1.0    0.0        0.0\n",
              "4    5      01/22/2020          Gansu  ...       0.0    0.0        0.0\n",
              "\n",
              "[5 rows x 8 columns]"
            ]
          },
          "metadata": {},
          "execution_count": 211
        }
      ]
    },
    {
      "cell_type": "markdown",
      "metadata": {
        "id": "UH9qSvabBcO0"
      },
      "source": [
        "# Cleaning the data\n"
      ]
    },
    {
      "cell_type": "code",
      "metadata": {
        "colab": {
          "base_uri": "https://localhost:8080/"
        },
        "id": "ShoU3t1SBeYk",
        "outputId": "d34ad1ad-32fd-4a21-b247-dd5eaac99f61"
      },
      "source": [
        "data.isnull().any(axis=0)"
      ],
      "execution_count": 128,
      "outputs": [
        {
          "output_type": "execute_result",
          "data": {
            "text/plain": [
              "SNo                False\n",
              "ObservationDate    False\n",
              "Province/State      True\n",
              "Country/Region     False\n",
              "Last Update        False\n",
              "Confirmed          False\n",
              "Deaths             False\n",
              "Recovered          False\n",
              "dtype: bool"
            ]
          },
          "metadata": {},
          "execution_count": 128
        }
      ]
    },
    {
      "cell_type": "code",
      "metadata": {
        "colab": {
          "base_uri": "https://localhost:8080/"
        },
        "id": "O9A6SIUOBuYF",
        "outputId": "24b2572c-af77-4fa9-e691-a1c79c1d5218"
      },
      "source": [
        "# removing rows with null values\n",
        "data.dropna(inplace=True)\n",
        "data.isnull().any(axis=0)"
      ],
      "execution_count": 129,
      "outputs": [
        {
          "output_type": "execute_result",
          "data": {
            "text/plain": [
              "SNo                False\n",
              "ObservationDate    False\n",
              "Province/State     False\n",
              "Country/Region     False\n",
              "Last Update        False\n",
              "Confirmed          False\n",
              "Deaths             False\n",
              "Recovered          False\n",
              "dtype: bool"
            ]
          },
          "metadata": {},
          "execution_count": 129
        }
      ]
    },
    {
      "cell_type": "code",
      "metadata": {
        "id": "ZqNqMizhBxDF"
      },
      "source": [
        "# removing rows with negative confirmed cases\n",
        "data = data[~(data['Confirmed'] <  0)]\n",
        "\n",
        "# removing rows with negative deaths cases\n",
        "data = data[~(data['Deaths'] <  0)]\n",
        "\n",
        "# removing rows with negative confirmed cases\n",
        "data = data[~(data['Recovered'] <  0)]\n",
        "\n"
      ],
      "execution_count": 130,
      "outputs": []
    },
    {
      "cell_type": "code",
      "metadata": {
        "colab": {
          "base_uri": "https://localhost:8080/"
        },
        "id": "lIrGVYcYXMjX",
        "outputId": "ec19c5ca-3eb5-4677-eb12-47db98c435d5"
      },
      "source": [
        "data.info()"
      ],
      "execution_count": 195,
      "outputs": [
        {
          "output_type": "stream",
          "name": "stdout",
          "text": [
            "<class 'pandas.core.frame.DataFrame'>\n",
            "Int64Index: 228325 entries, 0 to 306428\n",
            "Data columns (total 8 columns):\n",
            " #   Column           Non-Null Count   Dtype  \n",
            "---  ------           --------------   -----  \n",
            " 0   SNo              228325 non-null  int64  \n",
            " 1   ObservationDate  228325 non-null  object \n",
            " 2   Province/State   228325 non-null  object \n",
            " 3   Country/Region   228325 non-null  object \n",
            " 4   Last Update      228325 non-null  object \n",
            " 5   Confirmed        228325 non-null  float64\n",
            " 6   Deaths           228325 non-null  float64\n",
            " 7   Recovered        228325 non-null  float64\n",
            "dtypes: float64(3), int64(1), object(4)\n",
            "memory usage: 25.7+ MB\n"
          ]
        }
      ]
    },
    {
      "cell_type": "code",
      "metadata": {
        "colab": {
          "base_uri": "https://localhost:8080/",
          "height": 300
        },
        "id": "bJct8OF-XSNe",
        "outputId": "387ae701-ddde-4a7a-f2e0-02a66b1ceae7"
      },
      "source": [
        "data.describe()"
      ],
      "execution_count": 196,
      "outputs": [
        {
          "output_type": "execute_result",
          "data": {
            "text/html": [
              "<div>\n",
              "<style scoped>\n",
              "    .dataframe tbody tr th:only-of-type {\n",
              "        vertical-align: middle;\n",
              "    }\n",
              "\n",
              "    .dataframe tbody tr th {\n",
              "        vertical-align: top;\n",
              "    }\n",
              "\n",
              "    .dataframe thead th {\n",
              "        text-align: right;\n",
              "    }\n",
              "</style>\n",
              "<table border=\"1\" class=\"dataframe\">\n",
              "  <thead>\n",
              "    <tr style=\"text-align: right;\">\n",
              "      <th></th>\n",
              "      <th>SNo</th>\n",
              "      <th>Confirmed</th>\n",
              "      <th>Deaths</th>\n",
              "      <th>Recovered</th>\n",
              "    </tr>\n",
              "  </thead>\n",
              "  <tbody>\n",
              "    <tr>\n",
              "      <th>count</th>\n",
              "      <td>228325.000000</td>\n",
              "      <td>2.283250e+05</td>\n",
              "      <td>228325.000000</td>\n",
              "      <td>2.283250e+05</td>\n",
              "    </tr>\n",
              "    <tr>\n",
              "      <th>mean</th>\n",
              "      <td>158731.081178</td>\n",
              "      <td>8.021549e+04</td>\n",
              "      <td>1961.381106</td>\n",
              "      <td>4.184746e+04</td>\n",
              "    </tr>\n",
              "    <tr>\n",
              "      <th>std</th>\n",
              "      <td>85864.069975</td>\n",
              "      <td>2.493653e+05</td>\n",
              "      <td>5871.948609</td>\n",
              "      <td>1.793576e+05</td>\n",
              "    </tr>\n",
              "    <tr>\n",
              "      <th>min</th>\n",
              "      <td>1.000000</td>\n",
              "      <td>0.000000e+00</td>\n",
              "      <td>0.000000</td>\n",
              "      <td>0.000000e+00</td>\n",
              "    </tr>\n",
              "    <tr>\n",
              "      <th>25%</th>\n",
              "      <td>85428.000000</td>\n",
              "      <td>1.225000e+03</td>\n",
              "      <td>15.000000</td>\n",
              "      <td>0.000000e+00</td>\n",
              "    </tr>\n",
              "    <tr>\n",
              "      <th>50%</th>\n",
              "      <td>159306.000000</td>\n",
              "      <td>1.175800e+04</td>\n",
              "      <td>234.000000</td>\n",
              "      <td>1.211000e+03</td>\n",
              "    </tr>\n",
              "    <tr>\n",
              "      <th>75%</th>\n",
              "      <td>232836.000000</td>\n",
              "      <td>4.841200e+04</td>\n",
              "      <td>1411.000000</td>\n",
              "      <td>1.660300e+04</td>\n",
              "    </tr>\n",
              "    <tr>\n",
              "      <th>max</th>\n",
              "      <td>306429.000000</td>\n",
              "      <td>5.713215e+06</td>\n",
              "      <td>112385.000000</td>\n",
              "      <td>6.399531e+06</td>\n",
              "    </tr>\n",
              "  </tbody>\n",
              "</table>\n",
              "</div>"
            ],
            "text/plain": [
              "                 SNo     Confirmed         Deaths     Recovered\n",
              "count  228325.000000  2.283250e+05  228325.000000  2.283250e+05\n",
              "mean   158731.081178  8.021549e+04    1961.381106  4.184746e+04\n",
              "std     85864.069975  2.493653e+05    5871.948609  1.793576e+05\n",
              "min         1.000000  0.000000e+00       0.000000  0.000000e+00\n",
              "25%     85428.000000  1.225000e+03      15.000000  0.000000e+00\n",
              "50%    159306.000000  1.175800e+04     234.000000  1.211000e+03\n",
              "75%    232836.000000  4.841200e+04    1411.000000  1.660300e+04\n",
              "max    306429.000000  5.713215e+06  112385.000000  6.399531e+06"
            ]
          },
          "metadata": {},
          "execution_count": 196
        }
      ]
    },
    {
      "cell_type": "markdown",
      "metadata": {
        "id": "vRLcEJsg5MyK"
      },
      "source": [
        "# Tasks"
      ]
    },
    {
      "cell_type": "markdown",
      "metadata": {
        "id": "xliwRSgQ97tD"
      },
      "source": [
        "## Task1: Rank the countries in the dataset in descending order according to the number of deaths."
      ]
    },
    {
      "cell_type": "code",
      "metadata": {
        "colab": {
          "base_uri": "https://localhost:8080/",
          "height": 597
        },
        "id": "X9tzDlmE5Xj4",
        "outputId": "a719a1c4-234a-41e8-bf39-b58099cee634"
      },
      "source": [
        "data = data.sort_values(by=\"Deaths\", ascending=False)\n",
        "data[\"RankByDeath\"] = data[\"Deaths\"].rank(method=\"min\")\n",
        "data"
      ],
      "execution_count": 111,
      "outputs": [
        {
          "output_type": "execute_result",
          "data": {
            "text/html": [
              "<div>\n",
              "<style scoped>\n",
              "    .dataframe tbody tr th:only-of-type {\n",
              "        vertical-align: middle;\n",
              "    }\n",
              "\n",
              "    .dataframe tbody tr th {\n",
              "        vertical-align: top;\n",
              "    }\n",
              "\n",
              "    .dataframe thead th {\n",
              "        text-align: right;\n",
              "    }\n",
              "</style>\n",
              "<table border=\"1\" class=\"dataframe\">\n",
              "  <thead>\n",
              "    <tr style=\"text-align: right;\">\n",
              "      <th></th>\n",
              "      <th>SNo</th>\n",
              "      <th>ObservationDate</th>\n",
              "      <th>Province/State</th>\n",
              "      <th>Country/Region</th>\n",
              "      <th>Last Update</th>\n",
              "      <th>Confirmed</th>\n",
              "      <th>Deaths</th>\n",
              "      <th>Recovered</th>\n",
              "      <th>Rank</th>\n",
              "      <th>RankByDeath</th>\n",
              "    </tr>\n",
              "  </thead>\n",
              "  <tbody>\n",
              "    <tr>\n",
              "      <th>305972</th>\n",
              "      <td>305973</td>\n",
              "      <td>05/29/2021</td>\n",
              "      <td>England</td>\n",
              "      <td>UK</td>\n",
              "      <td>2021-05-30 04:20:55</td>\n",
              "      <td>3910803.0</td>\n",
              "      <td>112385.0</td>\n",
              "      <td>0.0</td>\n",
              "      <td>228325.0</td>\n",
              "      <td>228325.0</td>\n",
              "    </tr>\n",
              "    <tr>\n",
              "      <th>305207</th>\n",
              "      <td>305208</td>\n",
              "      <td>05/28/2021</td>\n",
              "      <td>England</td>\n",
              "      <td>UK</td>\n",
              "      <td>2021-05-29 04:20:41</td>\n",
              "      <td>3908214.0</td>\n",
              "      <td>112379.0</td>\n",
              "      <td>0.0</td>\n",
              "      <td>228324.0</td>\n",
              "      <td>228324.0</td>\n",
              "    </tr>\n",
              "    <tr>\n",
              "      <th>304442</th>\n",
              "      <td>304443</td>\n",
              "      <td>05/27/2021</td>\n",
              "      <td>England</td>\n",
              "      <td>UK</td>\n",
              "      <td>2021-05-28 04:20:36</td>\n",
              "      <td>3904934.0</td>\n",
              "      <td>112371.0</td>\n",
              "      <td>0.0</td>\n",
              "      <td>228323.0</td>\n",
              "      <td>228323.0</td>\n",
              "    </tr>\n",
              "    <tr>\n",
              "      <th>303677</th>\n",
              "      <td>303678</td>\n",
              "      <td>05/26/2021</td>\n",
              "      <td>England</td>\n",
              "      <td>UK</td>\n",
              "      <td>2021-05-27 04:20:59</td>\n",
              "      <td>3902160.0</td>\n",
              "      <td>112363.0</td>\n",
              "      <td>0.0</td>\n",
              "      <td>228322.0</td>\n",
              "      <td>228322.0</td>\n",
              "    </tr>\n",
              "    <tr>\n",
              "      <th>302912</th>\n",
              "      <td>302913</td>\n",
              "      <td>05/25/2021</td>\n",
              "      <td>England</td>\n",
              "      <td>UK</td>\n",
              "      <td>2021-05-26 04:20:35</td>\n",
              "      <td>3899813.0</td>\n",
              "      <td>112355.0</td>\n",
              "      <td>0.0</td>\n",
              "      <td>228321.0</td>\n",
              "      <td>228321.0</td>\n",
              "    </tr>\n",
              "    <tr>\n",
              "      <th>...</th>\n",
              "      <td>...</td>\n",
              "      <td>...</td>\n",
              "      <td>...</td>\n",
              "      <td>...</td>\n",
              "      <td>...</td>\n",
              "      <td>...</td>\n",
              "      <td>...</td>\n",
              "      <td>...</td>\n",
              "      <td>...</td>\n",
              "      <td>...</td>\n",
              "    </tr>\n",
              "    <tr>\n",
              "      <th>248993</th>\n",
              "      <td>248994</td>\n",
              "      <td>03/15/2021</td>\n",
              "      <td>Unknown</td>\n",
              "      <td>Mainland China</td>\n",
              "      <td>2021-04-02 15:13:53</td>\n",
              "      <td>0.0</td>\n",
              "      <td>0.0</td>\n",
              "      <td>1.0</td>\n",
              "      <td>1.0</td>\n",
              "      <td>1.0</td>\n",
              "    </tr>\n",
              "    <tr>\n",
              "      <th>248994</th>\n",
              "      <td>248995</td>\n",
              "      <td>03/15/2021</td>\n",
              "      <td>Unknown</td>\n",
              "      <td>Mexico</td>\n",
              "      <td>2021-04-02 15:13:53</td>\n",
              "      <td>0.0</td>\n",
              "      <td>0.0</td>\n",
              "      <td>1711931.0</td>\n",
              "      <td>1.0</td>\n",
              "      <td>1.0</td>\n",
              "    </tr>\n",
              "    <tr>\n",
              "      <th>110131</th>\n",
              "      <td>110132</td>\n",
              "      <td>09/13/2020</td>\n",
              "      <td>Tibet</td>\n",
              "      <td>Mainland China</td>\n",
              "      <td>2021-04-02 15:13:53</td>\n",
              "      <td>1.0</td>\n",
              "      <td>0.0</td>\n",
              "      <td>1.0</td>\n",
              "      <td>1.0</td>\n",
              "      <td>1.0</td>\n",
              "    </tr>\n",
              "    <tr>\n",
              "      <th>185543</th>\n",
              "      <td>185544</td>\n",
              "      <td>12/22/2020</td>\n",
              "      <td>Unknown</td>\n",
              "      <td>Spain</td>\n",
              "      <td>2021-04-02 15:13:53</td>\n",
              "      <td>0.0</td>\n",
              "      <td>0.0</td>\n",
              "      <td>0.0</td>\n",
              "      <td>1.0</td>\n",
              "      <td>1.0</td>\n",
              "    </tr>\n",
              "    <tr>\n",
              "      <th>0</th>\n",
              "      <td>1</td>\n",
              "      <td>01/22/2020</td>\n",
              "      <td>Anhui</td>\n",
              "      <td>Mainland China</td>\n",
              "      <td>1/22/2020 17:00</td>\n",
              "      <td>1.0</td>\n",
              "      <td>0.0</td>\n",
              "      <td>0.0</td>\n",
              "      <td>1.0</td>\n",
              "      <td>1.0</td>\n",
              "    </tr>\n",
              "  </tbody>\n",
              "</table>\n",
              "<p>228325 rows × 10 columns</p>\n",
              "</div>"
            ],
            "text/plain": [
              "           SNo ObservationDate Province/State  ...  Recovered      Rank  RankByDeath\n",
              "305972  305973      05/29/2021        England  ...        0.0  228325.0     228325.0\n",
              "305207  305208      05/28/2021        England  ...        0.0  228324.0     228324.0\n",
              "304442  304443      05/27/2021        England  ...        0.0  228323.0     228323.0\n",
              "303677  303678      05/26/2021        England  ...        0.0  228322.0     228322.0\n",
              "302912  302913      05/25/2021        England  ...        0.0  228321.0     228321.0\n",
              "...        ...             ...            ...  ...        ...       ...          ...\n",
              "248993  248994      03/15/2021        Unknown  ...        1.0       1.0          1.0\n",
              "248994  248995      03/15/2021        Unknown  ...  1711931.0       1.0          1.0\n",
              "110131  110132      09/13/2020          Tibet  ...        1.0       1.0          1.0\n",
              "185543  185544      12/22/2020        Unknown  ...        0.0       1.0          1.0\n",
              "0            1      01/22/2020          Anhui  ...        0.0       1.0          1.0\n",
              "\n",
              "[228325 rows x 10 columns]"
            ]
          },
          "metadata": {},
          "execution_count": 111
        }
      ]
    },
    {
      "cell_type": "markdown",
      "metadata": {
        "id": "GGru8iLM9zUl"
      },
      "source": [
        "## Task 2: Figure out the most affected provinces/states in the top 3 countries with the most number of Deaths."
      ]
    },
    {
      "cell_type": "code",
      "metadata": {
        "colab": {
          "base_uri": "https://localhost:8080/",
          "height": 175
        },
        "id": "037y3pgS7Seq",
        "outputId": "df7eabb0-0ae7-4c7b-ff8a-1d76a729a83d"
      },
      "source": [
        "countries_by_deaths  = pd.DataFrame(data.groupby(['Province/State','Country/Region']).sum()['Deaths'])\n",
        "countries_by_deaths = countries_by_deaths.sort_values(by=\"Deaths\", ascending=False)\n",
        "most_affected_countries_deaths = pd.DataFrame(countries_by_deaths.iloc[:3])\n",
        "most_affected_countries_deaths"
      ],
      "execution_count": 108,
      "outputs": [
        {
          "output_type": "execute_result",
          "data": {
            "text/html": [
              "<div>\n",
              "<style scoped>\n",
              "    .dataframe tbody tr th:only-of-type {\n",
              "        vertical-align: middle;\n",
              "    }\n",
              "\n",
              "    .dataframe tbody tr th {\n",
              "        vertical-align: top;\n",
              "    }\n",
              "\n",
              "    .dataframe thead th {\n",
              "        text-align: right;\n",
              "    }\n",
              "</style>\n",
              "<table border=\"1\" class=\"dataframe\">\n",
              "  <thead>\n",
              "    <tr style=\"text-align: right;\">\n",
              "      <th></th>\n",
              "      <th></th>\n",
              "      <th>Deaths</th>\n",
              "    </tr>\n",
              "    <tr>\n",
              "      <th>Province/State</th>\n",
              "      <th>Country/Region</th>\n",
              "      <th></th>\n",
              "    </tr>\n",
              "  </thead>\n",
              "  <tbody>\n",
              "    <tr>\n",
              "      <th>England</th>\n",
              "      <th>UK</th>\n",
              "      <td>24042130.0</td>\n",
              "    </tr>\n",
              "    <tr>\n",
              "      <th>Sao Paulo</th>\n",
              "      <th>Brazil</th>\n",
              "      <td>17339593.0</td>\n",
              "    </tr>\n",
              "    <tr>\n",
              "      <th>New York</th>\n",
              "      <th>US</th>\n",
              "      <td>15531696.0</td>\n",
              "    </tr>\n",
              "  </tbody>\n",
              "</table>\n",
              "</div>"
            ],
            "text/plain": [
              "                                   Deaths\n",
              "Province/State Country/Region            \n",
              "England        UK              24042130.0\n",
              "Sao Paulo      Brazil          17339593.0\n",
              "New York       US              15531696.0"
            ]
          },
          "metadata": {},
          "execution_count": 108
        }
      ]
    },
    {
      "cell_type": "markdown",
      "metadata": {
        "id": "_qc9O7oTGGr2"
      },
      "source": [
        "## Task 3: Repeat the first two steps for Recovered and Confirmed cases as well.\n"
      ]
    },
    {
      "cell_type": "markdown",
      "metadata": {
        "id": "iDwsZLAqGTF3"
      },
      "source": [
        "### For Confirmed Cases"
      ]
    },
    {
      "cell_type": "markdown",
      "metadata": {
        "id": "-xmK1NV8GmDO"
      },
      "source": [
        "#### Ranking"
      ]
    },
    {
      "cell_type": "code",
      "metadata": {
        "colab": {
          "base_uri": "https://localhost:8080/",
          "height": 479
        },
        "id": "zyMVWtHXGKv3",
        "outputId": "7c9d5f14-567c-4fdc-8eac-e533cd02a57b"
      },
      "source": [
        "data = data.sort_values(by=\"Confirmed\", ascending=False)\n",
        "data[\"RankByConfirmed\"] = data[\"Confirmed\"].rank(method=\"min\")\n",
        "data"
      ],
      "execution_count": 112,
      "outputs": [
        {
          "output_type": "execute_result",
          "data": {
            "text/html": [
              "<div>\n",
              "<style scoped>\n",
              "    .dataframe tbody tr th:only-of-type {\n",
              "        vertical-align: middle;\n",
              "    }\n",
              "\n",
              "    .dataframe tbody tr th {\n",
              "        vertical-align: top;\n",
              "    }\n",
              "\n",
              "    .dataframe thead th {\n",
              "        text-align: right;\n",
              "    }\n",
              "</style>\n",
              "<table border=\"1\" class=\"dataframe\">\n",
              "  <thead>\n",
              "    <tr style=\"text-align: right;\">\n",
              "      <th></th>\n",
              "      <th>SNo</th>\n",
              "      <th>ObservationDate</th>\n",
              "      <th>Province/State</th>\n",
              "      <th>Country/Region</th>\n",
              "      <th>Last Update</th>\n",
              "      <th>Confirmed</th>\n",
              "      <th>Deaths</th>\n",
              "      <th>Recovered</th>\n",
              "      <th>Rank</th>\n",
              "      <th>RankByDeath</th>\n",
              "      <th>RankByConfirmed</th>\n",
              "    </tr>\n",
              "  </thead>\n",
              "  <tbody>\n",
              "    <tr>\n",
              "      <th>306127</th>\n",
              "      <td>306128</td>\n",
              "      <td>05/29/2021</td>\n",
              "      <td>Maharashtra</td>\n",
              "      <td>India</td>\n",
              "      <td>2021-05-30 04:20:55</td>\n",
              "      <td>5713215.0</td>\n",
              "      <td>94030.0</td>\n",
              "      <td>5339838.0</td>\n",
              "      <td>228176.0</td>\n",
              "      <td>228176.0</td>\n",
              "      <td>228325.0</td>\n",
              "    </tr>\n",
              "    <tr>\n",
              "      <th>305362</th>\n",
              "      <td>305363</td>\n",
              "      <td>05/28/2021</td>\n",
              "      <td>Maharashtra</td>\n",
              "      <td>India</td>\n",
              "      <td>2021-05-29 04:20:41</td>\n",
              "      <td>5692920.0</td>\n",
              "      <td>93198.0</td>\n",
              "      <td>5307874.0</td>\n",
              "      <td>228172.0</td>\n",
              "      <td>228172.0</td>\n",
              "      <td>228324.0</td>\n",
              "    </tr>\n",
              "    <tr>\n",
              "      <th>304597</th>\n",
              "      <td>304598</td>\n",
              "      <td>05/27/2021</td>\n",
              "      <td>Maharashtra</td>\n",
              "      <td>India</td>\n",
              "      <td>2021-05-28 04:20:36</td>\n",
              "      <td>5672180.0</td>\n",
              "      <td>92225.0</td>\n",
              "      <td>5276203.0</td>\n",
              "      <td>228167.0</td>\n",
              "      <td>228167.0</td>\n",
              "      <td>228323.0</td>\n",
              "    </tr>\n",
              "    <tr>\n",
              "      <th>303832</th>\n",
              "      <td>303833</td>\n",
              "      <td>05/26/2021</td>\n",
              "      <td>Maharashtra</td>\n",
              "      <td>India</td>\n",
              "      <td>2021-05-27 04:20:59</td>\n",
              "      <td>5650907.0</td>\n",
              "      <td>91341.0</td>\n",
              "      <td>5241833.0</td>\n",
              "      <td>228164.0</td>\n",
              "      <td>228164.0</td>\n",
              "      <td>228322.0</td>\n",
              "    </tr>\n",
              "    <tr>\n",
              "      <th>303067</th>\n",
              "      <td>303068</td>\n",
              "      <td>05/25/2021</td>\n",
              "      <td>Maharashtra</td>\n",
              "      <td>India</td>\n",
              "      <td>2021-05-26 04:20:35</td>\n",
              "      <td>5626155.0</td>\n",
              "      <td>90349.0</td>\n",
              "      <td>5218768.0</td>\n",
              "      <td>228160.0</td>\n",
              "      <td>228160.0</td>\n",
              "      <td>228321.0</td>\n",
              "    </tr>\n",
              "    <tr>\n",
              "      <th>...</th>\n",
              "      <td>...</td>\n",
              "      <td>...</td>\n",
              "      <td>...</td>\n",
              "      <td>...</td>\n",
              "      <td>...</td>\n",
              "      <td>...</td>\n",
              "      <td>...</td>\n",
              "      <td>...</td>\n",
              "      <td>...</td>\n",
              "      <td>...</td>\n",
              "      <td>...</td>\n",
              "    </tr>\n",
              "    <tr>\n",
              "      <th>100461</th>\n",
              "      <td>100462</td>\n",
              "      <td>08/31/2020</td>\n",
              "      <td>Unknown</td>\n",
              "      <td>Peru</td>\n",
              "      <td>2021-04-02 15:13:53</td>\n",
              "      <td>0.0</td>\n",
              "      <td>0.0</td>\n",
              "      <td>455457.0</td>\n",
              "      <td>1.0</td>\n",
              "      <td>1.0</td>\n",
              "      <td>1.0</td>\n",
              "    </tr>\n",
              "    <tr>\n",
              "      <th>100459</th>\n",
              "      <td>100460</td>\n",
              "      <td>08/31/2020</td>\n",
              "      <td>Unknown</td>\n",
              "      <td>Mainland China</td>\n",
              "      <td>2021-04-02 15:13:53</td>\n",
              "      <td>0.0</td>\n",
              "      <td>0.0</td>\n",
              "      <td>0.0</td>\n",
              "      <td>1.0</td>\n",
              "      <td>1.0</td>\n",
              "      <td>1.0</td>\n",
              "    </tr>\n",
              "    <tr>\n",
              "      <th>50636</th>\n",
              "      <td>50637</td>\n",
              "      <td>06/25/2020</td>\n",
              "      <td>Recovered</td>\n",
              "      <td>US</td>\n",
              "      <td>2021-04-02 15:13:53</td>\n",
              "      <td>0.0</td>\n",
              "      <td>0.0</td>\n",
              "      <td>663562.0</td>\n",
              "      <td>1.0</td>\n",
              "      <td>1.0</td>\n",
              "      <td>1.0</td>\n",
              "    </tr>\n",
              "    <tr>\n",
              "      <th>296423</th>\n",
              "      <td>296424</td>\n",
              "      <td>05/16/2021</td>\n",
              "      <td>Unknown</td>\n",
              "      <td>Mainland China</td>\n",
              "      <td>2021-05-17 04:20:34</td>\n",
              "      <td>0.0</td>\n",
              "      <td>0.0</td>\n",
              "      <td>10.0</td>\n",
              "      <td>1.0</td>\n",
              "      <td>1.0</td>\n",
              "      <td>1.0</td>\n",
              "    </tr>\n",
              "    <tr>\n",
              "      <th>2446</th>\n",
              "      <td>2447</td>\n",
              "      <td>02/25/2020</td>\n",
              "      <td>Travis, CA (From Diamond Princess)</td>\n",
              "      <td>US</td>\n",
              "      <td>2020-02-24T23:33:02</td>\n",
              "      <td>0.0</td>\n",
              "      <td>0.0</td>\n",
              "      <td>0.0</td>\n",
              "      <td>1.0</td>\n",
              "      <td>1.0</td>\n",
              "      <td>1.0</td>\n",
              "    </tr>\n",
              "  </tbody>\n",
              "</table>\n",
              "<p>228325 rows × 11 columns</p>\n",
              "</div>"
            ],
            "text/plain": [
              "           SNo ObservationDate  ... RankByDeath RankByConfirmed\n",
              "306127  306128      05/29/2021  ...    228176.0        228325.0\n",
              "305362  305363      05/28/2021  ...    228172.0        228324.0\n",
              "304597  304598      05/27/2021  ...    228167.0        228323.0\n",
              "303832  303833      05/26/2021  ...    228164.0        228322.0\n",
              "303067  303068      05/25/2021  ...    228160.0        228321.0\n",
              "...        ...             ...  ...         ...             ...\n",
              "100461  100462      08/31/2020  ...         1.0             1.0\n",
              "100459  100460      08/31/2020  ...         1.0             1.0\n",
              "50636    50637      06/25/2020  ...         1.0             1.0\n",
              "296423  296424      05/16/2021  ...         1.0             1.0\n",
              "2446      2447      02/25/2020  ...         1.0             1.0\n",
              "\n",
              "[228325 rows x 11 columns]"
            ]
          },
          "metadata": {},
          "execution_count": 112
        }
      ]
    },
    {
      "cell_type": "markdown",
      "metadata": {
        "id": "tATA7vlsGpCv"
      },
      "source": [
        "#### Most Affected Province with most number of Confirmed Cases\n"
      ]
    },
    {
      "cell_type": "code",
      "metadata": {
        "colab": {
          "base_uri": "https://localhost:8080/",
          "height": 175
        },
        "id": "aaue4YSHGyPG",
        "outputId": "6a4af03f-0250-4e70-8dcd-e0ff5e97d3e7"
      },
      "source": [
        "countries_by_confirmed  = pd.DataFrame(data.groupby(['Province/State','Country/Region']).sum()['Confirmed'])\n",
        "countries_by_confirmed = countries_by_confirmed.sort_values(by=\"Confirmed\", ascending=False)\n",
        "most_affected_countries_confirmed = pd.DataFrame(countries_by_confirmed.iloc[:3])\n",
        "most_affected_countries_confirmed"
      ],
      "execution_count": 114,
      "outputs": [
        {
          "output_type": "execute_result",
          "data": {
            "text/html": [
              "<div>\n",
              "<style scoped>\n",
              "    .dataframe tbody tr th:only-of-type {\n",
              "        vertical-align: middle;\n",
              "    }\n",
              "\n",
              "    .dataframe tbody tr th {\n",
              "        vertical-align: top;\n",
              "    }\n",
              "\n",
              "    .dataframe thead th {\n",
              "        text-align: right;\n",
              "    }\n",
              "</style>\n",
              "<table border=\"1\" class=\"dataframe\">\n",
              "  <thead>\n",
              "    <tr style=\"text-align: right;\">\n",
              "      <th></th>\n",
              "      <th></th>\n",
              "      <th>Confirmed</th>\n",
              "    </tr>\n",
              "    <tr>\n",
              "      <th>Province/State</th>\n",
              "      <th>Country/Region</th>\n",
              "      <th></th>\n",
              "    </tr>\n",
              "  </thead>\n",
              "  <tbody>\n",
              "    <tr>\n",
              "      <th>California</th>\n",
              "      <th>US</th>\n",
              "      <td>696898013.0</td>\n",
              "    </tr>\n",
              "    <tr>\n",
              "      <th>Maharashtra</th>\n",
              "      <th>India</th>\n",
              "      <td>681186928.0</td>\n",
              "    </tr>\n",
              "    <tr>\n",
              "      <th>England</th>\n",
              "      <th>UK</th>\n",
              "      <td>666227518.0</td>\n",
              "    </tr>\n",
              "  </tbody>\n",
              "</table>\n",
              "</div>"
            ],
            "text/plain": [
              "                                 Confirmed\n",
              "Province/State Country/Region             \n",
              "California     US              696898013.0\n",
              "Maharashtra    India           681186928.0\n",
              "England        UK              666227518.0"
            ]
          },
          "metadata": {},
          "execution_count": 114
        }
      ]
    },
    {
      "cell_type": "markdown",
      "metadata": {
        "id": "pHogZVVEHeZf"
      },
      "source": [
        "### For Recovered Cases"
      ]
    },
    {
      "cell_type": "markdown",
      "metadata": {
        "id": "809XhRmUHeZi"
      },
      "source": [
        "#### Ranking"
      ]
    },
    {
      "cell_type": "code",
      "metadata": {
        "colab": {
          "base_uri": "https://localhost:8080/",
          "height": 479
        },
        "id": "qwtSixHtHeZj",
        "outputId": "9fed532e-5b7f-4c05-a2ef-72d44ba20d9a"
      },
      "source": [
        "data = data.sort_values(by=\"Recovered\", ascending=False)\n",
        "data[\"RankByRecovered\"] = data[\"Recovered\"].rank(method=\"min\")\n",
        "data"
      ],
      "execution_count": 115,
      "outputs": [
        {
          "output_type": "execute_result",
          "data": {
            "text/html": [
              "<div>\n",
              "<style scoped>\n",
              "    .dataframe tbody tr th:only-of-type {\n",
              "        vertical-align: middle;\n",
              "    }\n",
              "\n",
              "    .dataframe tbody tr th {\n",
              "        vertical-align: top;\n",
              "    }\n",
              "\n",
              "    .dataframe thead th {\n",
              "        text-align: right;\n",
              "    }\n",
              "</style>\n",
              "<table border=\"1\" class=\"dataframe\">\n",
              "  <thead>\n",
              "    <tr style=\"text-align: right;\">\n",
              "      <th></th>\n",
              "      <th>SNo</th>\n",
              "      <th>ObservationDate</th>\n",
              "      <th>Province/State</th>\n",
              "      <th>Country/Region</th>\n",
              "      <th>Last Update</th>\n",
              "      <th>Confirmed</th>\n",
              "      <th>Deaths</th>\n",
              "      <th>Recovered</th>\n",
              "      <th>Rank</th>\n",
              "      <th>RankByDeath</th>\n",
              "      <th>RankByConfirmed</th>\n",
              "      <th>RankByRecovered</th>\n",
              "    </tr>\n",
              "  </thead>\n",
              "  <tbody>\n",
              "    <tr>\n",
              "      <th>179328</th>\n",
              "      <td>179329</td>\n",
              "      <td>12/14/2020</td>\n",
              "      <td>Recovered</td>\n",
              "      <td>US</td>\n",
              "      <td>2021-04-02 15:13:53</td>\n",
              "      <td>0.0</td>\n",
              "      <td>0.0</td>\n",
              "      <td>6399531.0</td>\n",
              "      <td>1.0</td>\n",
              "      <td>1.0</td>\n",
              "      <td>1.0</td>\n",
              "      <td>228325.0</td>\n",
              "    </tr>\n",
              "    <tr>\n",
              "      <th>178565</th>\n",
              "      <td>178566</td>\n",
              "      <td>12/13/2020</td>\n",
              "      <td>Recovered</td>\n",
              "      <td>US</td>\n",
              "      <td>2021-04-02 15:13:53</td>\n",
              "      <td>0.0</td>\n",
              "      <td>0.0</td>\n",
              "      <td>6298082.0</td>\n",
              "      <td>1.0</td>\n",
              "      <td>1.0</td>\n",
              "      <td>1.0</td>\n",
              "      <td>228324.0</td>\n",
              "    </tr>\n",
              "    <tr>\n",
              "      <th>177802</th>\n",
              "      <td>177803</td>\n",
              "      <td>12/12/2020</td>\n",
              "      <td>Recovered</td>\n",
              "      <td>US</td>\n",
              "      <td>2021-04-02 15:13:53</td>\n",
              "      <td>0.0</td>\n",
              "      <td>0.0</td>\n",
              "      <td>6246605.0</td>\n",
              "      <td>1.0</td>\n",
              "      <td>1.0</td>\n",
              "      <td>1.0</td>\n",
              "      <td>228323.0</td>\n",
              "    </tr>\n",
              "    <tr>\n",
              "      <th>177039</th>\n",
              "      <td>177040</td>\n",
              "      <td>12/11/2020</td>\n",
              "      <td>Recovered</td>\n",
              "      <td>US</td>\n",
              "      <td>2021-04-02 15:13:53</td>\n",
              "      <td>0.0</td>\n",
              "      <td>0.0</td>\n",
              "      <td>6135314.0</td>\n",
              "      <td>1.0</td>\n",
              "      <td>1.0</td>\n",
              "      <td>1.0</td>\n",
              "      <td>228322.0</td>\n",
              "    </tr>\n",
              "    <tr>\n",
              "      <th>176276</th>\n",
              "      <td>176277</td>\n",
              "      <td>12/10/2020</td>\n",
              "      <td>Recovered</td>\n",
              "      <td>US</td>\n",
              "      <td>2021-04-02 15:13:53</td>\n",
              "      <td>0.0</td>\n",
              "      <td>0.0</td>\n",
              "      <td>5985047.0</td>\n",
              "      <td>1.0</td>\n",
              "      <td>1.0</td>\n",
              "      <td>1.0</td>\n",
              "      <td>228321.0</td>\n",
              "    </tr>\n",
              "    <tr>\n",
              "      <th>...</th>\n",
              "      <td>...</td>\n",
              "      <td>...</td>\n",
              "      <td>...</td>\n",
              "      <td>...</td>\n",
              "      <td>...</td>\n",
              "      <td>...</td>\n",
              "      <td>...</td>\n",
              "      <td>...</td>\n",
              "      <td>...</td>\n",
              "      <td>...</td>\n",
              "      <td>...</td>\n",
              "      <td>...</td>\n",
              "    </tr>\n",
              "    <tr>\n",
              "      <th>281930</th>\n",
              "      <td>281931</td>\n",
              "      <td>04/27/2021</td>\n",
              "      <td>Wisconsin</td>\n",
              "      <td>US</td>\n",
              "      <td>2021-04-28 04:20:32</td>\n",
              "      <td>657872.0</td>\n",
              "      <td>7494.0</td>\n",
              "      <td>0.0</td>\n",
              "      <td>213753.0</td>\n",
              "      <td>213753.0</td>\n",
              "      <td>222812.0</td>\n",
              "      <td>1.0</td>\n",
              "    </tr>\n",
              "    <tr>\n",
              "      <th>305945</th>\n",
              "      <td>305946</td>\n",
              "      <td>05/29/2021</td>\n",
              "      <td>Ciudad de Mexico</td>\n",
              "      <td>Mexico</td>\n",
              "      <td>2021-05-30 04:20:55</td>\n",
              "      <td>657832.0</td>\n",
              "      <td>33198.0</td>\n",
              "      <td>0.0</td>\n",
              "      <td>226708.0</td>\n",
              "      <td>226708.0</td>\n",
              "      <td>222811.0</td>\n",
              "      <td>1.0</td>\n",
              "    </tr>\n",
              "    <tr>\n",
              "      <th>167186</th>\n",
              "      <td>167187</td>\n",
              "      <td>11/28/2020</td>\n",
              "      <td>Tacna</td>\n",
              "      <td>Peru</td>\n",
              "      <td>2021-04-02 15:13:53</td>\n",
              "      <td>13971.0</td>\n",
              "      <td>253.0</td>\n",
              "      <td>0.0</td>\n",
              "      <td>116331.0</td>\n",
              "      <td>116331.0</td>\n",
              "      <td>120150.0</td>\n",
              "      <td>1.0</td>\n",
              "    </tr>\n",
              "    <tr>\n",
              "      <th>268651</th>\n",
              "      <td>268652</td>\n",
              "      <td>04/10/2021</td>\n",
              "      <td>Massachusetts</td>\n",
              "      <td>US</td>\n",
              "      <td>2021-04-11 04:20:56</td>\n",
              "      <td>657578.0</td>\n",
              "      <td>17379.0</td>\n",
              "      <td>0.0</td>\n",
              "      <td>224000.0</td>\n",
              "      <td>224000.0</td>\n",
              "      <td>222806.0</td>\n",
              "      <td>1.0</td>\n",
              "    </tr>\n",
              "    <tr>\n",
              "      <th>2446</th>\n",
              "      <td>2447</td>\n",
              "      <td>02/25/2020</td>\n",
              "      <td>Travis, CA (From Diamond Princess)</td>\n",
              "      <td>US</td>\n",
              "      <td>2020-02-24T23:33:02</td>\n",
              "      <td>0.0</td>\n",
              "      <td>0.0</td>\n",
              "      <td>0.0</td>\n",
              "      <td>1.0</td>\n",
              "      <td>1.0</td>\n",
              "      <td>1.0</td>\n",
              "      <td>1.0</td>\n",
              "    </tr>\n",
              "  </tbody>\n",
              "</table>\n",
              "<p>228325 rows × 12 columns</p>\n",
              "</div>"
            ],
            "text/plain": [
              "           SNo ObservationDate  ... RankByConfirmed RankByRecovered\n",
              "179328  179329      12/14/2020  ...             1.0        228325.0\n",
              "178565  178566      12/13/2020  ...             1.0        228324.0\n",
              "177802  177803      12/12/2020  ...             1.0        228323.0\n",
              "177039  177040      12/11/2020  ...             1.0        228322.0\n",
              "176276  176277      12/10/2020  ...             1.0        228321.0\n",
              "...        ...             ...  ...             ...             ...\n",
              "281930  281931      04/27/2021  ...        222812.0             1.0\n",
              "305945  305946      05/29/2021  ...        222811.0             1.0\n",
              "167186  167187      11/28/2020  ...        120150.0             1.0\n",
              "268651  268652      04/10/2021  ...        222806.0             1.0\n",
              "2446      2447      02/25/2020  ...             1.0             1.0\n",
              "\n",
              "[228325 rows x 12 columns]"
            ]
          },
          "metadata": {},
          "execution_count": 115
        }
      ]
    },
    {
      "cell_type": "markdown",
      "metadata": {
        "id": "wpY9REnAHeZl"
      },
      "source": [
        "#### Most Affected Province with most number of Recovered Cases\n"
      ]
    },
    {
      "cell_type": "code",
      "metadata": {
        "colab": {
          "base_uri": "https://localhost:8080/",
          "height": 175
        },
        "id": "eYYDS08EHeZm",
        "outputId": "8d1028bb-98e3-4253-a5fc-70eb23a3b0c5"
      },
      "source": [
        "countries_by_recovered  = pd.DataFrame(data.groupby(['Province/State','Country/Region']).sum()['Recovered'])\n",
        "countries_by_recovered = countries_by_recovered.sort_values(by=\"Recovered\", ascending=False)\n",
        "most_affected_countries_recovered = pd.DataFrame(countries_by_recovered.iloc[:3])\n",
        "most_affected_countries_recovered"
      ],
      "execution_count": 116,
      "outputs": [
        {
          "output_type": "execute_result",
          "data": {
            "text/html": [
              "<div>\n",
              "<style scoped>\n",
              "    .dataframe tbody tr th:only-of-type {\n",
              "        vertical-align: middle;\n",
              "    }\n",
              "\n",
              "    .dataframe tbody tr th {\n",
              "        vertical-align: top;\n",
              "    }\n",
              "\n",
              "    .dataframe thead th {\n",
              "        text-align: right;\n",
              "    }\n",
              "</style>\n",
              "<table border=\"1\" class=\"dataframe\">\n",
              "  <thead>\n",
              "    <tr style=\"text-align: right;\">\n",
              "      <th></th>\n",
              "      <th></th>\n",
              "      <th>Recovered</th>\n",
              "    </tr>\n",
              "    <tr>\n",
              "      <th>Province/State</th>\n",
              "      <th>Country/Region</th>\n",
              "      <th></th>\n",
              "    </tr>\n",
              "  </thead>\n",
              "  <tbody>\n",
              "    <tr>\n",
              "      <th>Maharashtra</th>\n",
              "      <th>India</th>\n",
              "      <td>597480809.0</td>\n",
              "    </tr>\n",
              "    <tr>\n",
              "      <th>Recovered</th>\n",
              "      <th>US</th>\n",
              "      <td>503370163.0</td>\n",
              "    </tr>\n",
              "    <tr>\n",
              "      <th>Sao Paulo</th>\n",
              "      <th>Brazil</th>\n",
              "      <td>444187689.0</td>\n",
              "    </tr>\n",
              "  </tbody>\n",
              "</table>\n",
              "</div>"
            ],
            "text/plain": [
              "                                 Recovered\n",
              "Province/State Country/Region             \n",
              "Maharashtra    India           597480809.0\n",
              "Recovered      US              503370163.0\n",
              "Sao Paulo      Brazil          444187689.0"
            ]
          },
          "metadata": {},
          "execution_count": 116
        }
      ]
    },
    {
      "cell_type": "markdown",
      "metadata": {
        "id": "3rzo9ICEIAnY"
      },
      "source": [
        "## Task 4: Plot a bar graph for the top 10 states in China and US in accordance with the death cases, and recovered cases."
      ]
    },
    {
      "cell_type": "code",
      "metadata": {
        "colab": {
          "base_uri": "https://localhost:8080/",
          "height": 1000
        },
        "id": "wFXhjKBATm1b",
        "outputId": "489c0099-a49f-4ebe-ac2f-be0585a222b8"
      },
      "source": [
        "## Death Plot\n",
        "\n",
        "china = pd.DataFrame(data.loc[data['Country/Region'].isin(['China', 'Mainland China'])])\n",
        "p_china = pd.DataFrame(china.groupby(['Province/State','Country/Region']).sum()['Deaths'])\n",
        "p_china.reset_index(inplace=True)\n",
        "cases_china = p.sort_values(by='Deaths', ascending=False).head(10)\n",
        "print(\"\\n\",cases_china)\n",
        "\n",
        "us = pd.DataFrame(data.loc[data['Country/Region'].isin(['US'])])\n",
        "p_us = pd.DataFrame(us.groupby(['Province/State','Country/Region']).sum()['Deaths'])\n",
        "p_us.reset_index(inplace=True)\n",
        "cases_us = p_us.sort_values(by='Deaths', ascending=False).head(10)\n",
        "print(\"\\n\",cases_us)\n",
        "\n",
        "cases = cases_us.append(cases_china)\n",
        "\n",
        "print(\"\\n\",cases)\n",
        "sns.barplot(x= cases['Province/State'] ,y= cases.Deaths, data=pd.melt(cases))\n",
        "plt.xticks(rotation=90)\n",
        "sns.set(rc={\"figure.figsize\":(15, 4)})\n",
        "plt.show()"
      ],
      "execution_count": 190,
      "outputs": [
        {
          "output_type": "stream",
          "name": "stdout",
          "text": [
            "\n",
            "    Province/State  Country/Region     Deaths\n",
            "12          Hubei  Mainland China  2032612.0\n",
            "11          Henan  Mainland China    10360.0\n",
            "10   Heilongjiang  Mainland China     6174.0\n",
            "1         Beijing  Mainland China     4137.0\n",
            "5       Guangdong  Mainland China     3721.0\n",
            "22       Shandong  Mainland China     3245.0\n",
            "23       Shanghai  Mainland China     3125.0\n",
            "9           Hebei  Mainland China     2972.0\n",
            "2       Chongqing  Mainland China     2849.0\n",
            "0           Anhui  Mainland China     2843.0\n",
            "\n",
            "     Province/State Country/Region      Deaths\n",
            "109       New York             US  15531696.0\n",
            "14      California             US  10831870.0\n",
            "168          Texas             US   9517809.0\n",
            "107     New Jersey             US   7323817.0\n",
            "44         Florida             US   7261979.0\n",
            "65        Illinois             US   5589797.0\n",
            "124   Pennsylvania             US   5520992.0\n",
            "93   Massachusetts             US   4628938.0\n",
            "94        Michigan             US   4365856.0\n",
            "49         Georgia             US   3977382.0\n",
            "\n",
            "     Province/State  Country/Region      Deaths\n",
            "109       New York              US  15531696.0\n",
            "14      California              US  10831870.0\n",
            "168          Texas              US   9517809.0\n",
            "107     New Jersey              US   7323817.0\n",
            "44         Florida              US   7261979.0\n",
            "65        Illinois              US   5589797.0\n",
            "124   Pennsylvania              US   5520992.0\n",
            "93   Massachusetts              US   4628938.0\n",
            "94        Michigan              US   4365856.0\n",
            "49         Georgia              US   3977382.0\n",
            "12           Hubei  Mainland China   2032612.0\n",
            "11           Henan  Mainland China     10360.0\n",
            "10    Heilongjiang  Mainland China      6174.0\n",
            "1          Beijing  Mainland China      4137.0\n",
            "5        Guangdong  Mainland China      3721.0\n",
            "22        Shandong  Mainland China      3245.0\n",
            "23        Shanghai  Mainland China      3125.0\n",
            "9            Hebei  Mainland China      2972.0\n",
            "2        Chongqing  Mainland China      2849.0\n",
            "0            Anhui  Mainland China      2843.0\n"
          ]
        },
        {
          "output_type": "display_data",
          "data": {
            "image/png": "[encoded data removed]",
            "text/plain": [
              "<Figure size 1440x288 with 1 Axes>"
            ]
          },
          "metadata": {}
        }
      ]
    },
    {
      "cell_type": "code",
      "metadata": {
        "colab": {
          "base_uri": "https://localhost:8080/",
          "height": 1000
        },
        "id": "K56aupApWPdW",
        "outputId": "24661748-cc47-4b6b-b47b-3ac3df09df69"
      },
      "source": [
        "## Recovered Plot\n",
        "\n",
        "china_r = pd.DataFrame(data.loc[data['Country/Region'].isin(['China', 'Mainland China'])])\n",
        "p_china_r = pd.DataFrame(china_r.groupby(['Province/State','Country/Region']).sum()['Recovered'])\n",
        "p_china_r.reset_index(inplace=True)\n",
        "cases_china_r = p_china_r.sort_values(by='Recovered', ascending=False).head(10)\n",
        "print(\"\\n\",cases_china_r)\n",
        "\n",
        "us_r = pd.DataFrame(data.loc[data['Country/Region'].isin(['US'])])\n",
        "p_us_r = pd.DataFrame(us.groupby(['Province/State','Country/Region']).sum()['Recovered'])\n",
        "p_us_r.reset_index(inplace=True)\n",
        "cases_us_r = p_us_r.sort_values(by='Recovered', ascending=False).head(10)\n",
        "print(\"\\n\",cases_us_r)\n",
        "\n",
        "cases_r = cases_china_r.append(cases_us_r)\n",
        "\n",
        "print(\"\\n\",cases_r)\n",
        "sns.barplot(x= cases_r['Province/State'] ,y= cases_r.Recovered, data=pd.melt(cases_r))\n",
        "plt.xticks(rotation=90)\n",
        "sns.set(rc={\"figure.figsize\":(20, 4)})\n",
        "plt.show()"
      ],
      "execution_count": 193,
      "outputs": [
        {
          "output_type": "stream",
          "name": "stdout",
          "text": [
            "\n",
            "    Province/State  Country/Region   Recovered\n",
            "12          Hubei  Mainland China  28859431.0\n",
            "5       Guangdong  Mainland China    850792.0\n",
            "32       Zhejiang  Mainland China    594885.0\n",
            "11          Henan  Mainland China    588730.0\n",
            "23       Shanghai  Mainland China    510078.0\n",
            "13          Hunan  Mainland China    475041.0\n",
            "10   Heilongjiang  Mainland China    471978.0\n",
            "0           Anhui  Mainland China    457643.0\n",
            "16        Jiangxi  Mainland China    433485.0\n",
            "1         Beijing  Mainland China    380764.0\n",
            "\n",
            "            Province/State Country/Region    Recovered\n",
            "136             Recovered             US  503370163.0\n",
            "172                    US             US        532.0\n",
            "21            Chicago, IL             US         44.0\n",
            "14             California             US         40.0\n",
            "153           Seattle, WA             US         22.0\n",
            "144  San Diego County, CA             US         18.0\n",
            "29        Cook County, IL             US         16.0\n",
            "65               Illinois             US         16.0\n",
            "148       Santa Clara, CA             US         15.0\n",
            "166             Tempe, AZ             US         11.0\n",
            "\n",
            "            Province/State  Country/Region    Recovered\n",
            "12                  Hubei  Mainland China   28859431.0\n",
            "5               Guangdong  Mainland China     850792.0\n",
            "32               Zhejiang  Mainland China     594885.0\n",
            "11                  Henan  Mainland China     588730.0\n",
            "23               Shanghai  Mainland China     510078.0\n",
            "13                  Hunan  Mainland China     475041.0\n",
            "10           Heilongjiang  Mainland China     471978.0\n",
            "0                   Anhui  Mainland China     457643.0\n",
            "16                Jiangxi  Mainland China     433485.0\n",
            "1                 Beijing  Mainland China     380764.0\n",
            "136             Recovered              US  503370163.0\n",
            "172                    US              US        532.0\n",
            "21            Chicago, IL              US         44.0\n",
            "14             California              US         40.0\n",
            "153           Seattle, WA              US         22.0\n",
            "144  San Diego County, CA              US         18.0\n",
            "29        Cook County, IL              US         16.0\n",
            "65               Illinois              US         16.0\n",
            "148       Santa Clara, CA              US         15.0\n",
            "166             Tempe, AZ              US         11.0\n"
          ]
        },
        {
          "output_type": "display_data",
          "data": {
            "image/png": "[encoded data removed]",
            "text/plain": [
              "<Figure size 1440x288 with 1 Axes>"
            ]
          },
          "metadata": {}
        }
      ]
    },
    {
      "cell_type": "markdown",
      "metadata": {
        "id": "zGSPi16HR02y"
      },
      "source": [
        "## Task 5: Plot the confirmed, deaths and recovered cases as line graphs with dates for the US, Iran, and China each.\n"
      ]
    },
    {
      "cell_type": "code",
      "metadata": {
        "colab": {
          "base_uri": "https://localhost:8080/",
          "height": 1000
        },
        "id": "DW8U4bRUSdJy",
        "outputId": "e2112bc9-5f6b-4c45-f0b3-1e9e94ea5de7"
      },
      "source": [
        "countries_of_interest = [\"US\", \"China\", \"Mainland China\", \"Iran\"]\n",
        "\n",
        "countries = pd.DataFrame(data.loc[data['Country/Region'].isin(countries_of_interest)])\n",
        "countries = pd.DataFrame(countries.groupby(['Province/State','Country/Region']).sum())\n",
        "\n",
        "p_confirmed = pd.DataFrame(countries.groupby(['Country/Region']).sum()['Confirmed'])\n",
        "p_confirmed.reset_index(inplace=True)\n",
        "cases_confirmed = p_confirmed.sort_values(by='Confirmed', ascending=False).head(25)\n",
        "\n",
        "sns.lineplot(x= cases_confirmed['Country/Region'] ,y= cases_confirmed.Confirmed, data=pd.melt(cases_confirmed), palette=\"dark:salmon_r\")\n",
        "plt.xticks(rotation=90)\n",
        "sns.set(rc={\"figure.figsize\":(15, 4)})\n",
        "sns.set_theme(style='ticks')\n",
        "plt.show()\n",
        "\n",
        "p_recovered = pd.DataFrame(countries.groupby(['Country/Region']).sum()['Recovered'])\n",
        "p_recovered.reset_index(inplace=True)\n",
        "cases_recovered = p_recovered.sort_values(by='Recovered', ascending=False).head(25)\n",
        "\n",
        "sns.lineplot(x= cases_recovered['Country/Region'] ,y= cases_recovered.Recovered, data=pd.melt(cases_recovered), palette=\"dark:salmon_r\")\n",
        "plt.xticks(rotation=90)\n",
        "sns.set(rc={\"figure.figsize\":(15, 4)})\n",
        "sns.set_theme(style='ticks')\n",
        "plt.show()\n",
        "\n",
        "p_death = pd.DataFrame(countries.groupby(['Country/Region']).sum()['Deaths'])\n",
        "p_death.reset_index(inplace=True)\n",
        "cases = p_death.sort_values(by='Deaths', ascending=False).head(25)\n",
        "\n",
        "sns.lineplot(x= cases['Country/Region'] ,y= cases.Deaths, data=pd.melt(cases), palette=\"dark:salmon_r\")\n",
        "plt.xticks(rotation=90)\n",
        "sns.set(rc={\"figure.figsize\":(15, 4)})\n",
        "sns.set_theme(style='ticks')\n",
        "plt.show()\n"
      ],
      "execution_count": 243,
      "outputs": [
        {
          "output_type": "display_data",
          "data": {
            "image/png": "[encoded data removed]",
            "text/plain": [
              "<Figure size 1080x288 with 1 Axes>"
            ]
          },
          "metadata": {}
        },
        {
          "output_type": "display_data",
          "data": {
            "image/png": "[encoded data removed]",
            "text/plain": [
              "<Figure size 1080x288 with 1 Axes>"
            ]
          },
          "metadata": {}
        },
        {
          "output_type": "display_data",
          "data": {
            "image/png": "[encoded data removed]",
            "text/plain": [
              "<Figure size 1080x288 with 1 Axes>"
            ]
          },
          "metadata": {}
        }
      ]
    },
    {
      "cell_type": "markdown",
      "metadata": {
        "id": "9PUz-ULUSgOF"
      },
      "source": [
        "## Task 6: Looking at the plots, explain which country has seen a surge in confirmed, and death cases?"
      ]
    },
    {
      "cell_type": "markdown",
      "metadata": {
        "id": "4yYB-gf3rWCX"
      },
      "source": [
        "According to the graphs US has seen surge in the confirmed and death cases"
      ]
    },
    {
      "cell_type": "markdown",
      "metadata": {
        "id": "qpYZdDerSk3s"
      },
      "source": [
        "## Task 7: Work out the death rate due to COVID-19 in these three countries."
      ]
    },
    {
      "cell_type": "code",
      "metadata": {
        "colab": {
          "base_uri": "https://localhost:8080/",
          "height": 175
        },
        "id": "4gB76oRKSwhM",
        "outputId": "e943efe9-c646-48d6-cdea-a9be3a2396db"
      },
      "source": [
        "countries = pd.DataFrame(data.loc[data['Country/Region'].isin(countries_of_interest)])\n",
        "\n",
        "countries['Deaths'] = countries['Deaths'].astype('int64')\n",
        "\n",
        "rec = pd.DataFrame(countries[['Deaths']].value_counts(normalize=True)*100)\n",
        "rec.reset_index(inplace=True)\n",
        "rec.rename(columns = {0:'Rate'}, inplace=True)\n",
        "\n",
        "rec['Country/Region'] = countries['Country/Region'].copy()\n",
        "\n",
        "rec = rec.groupby('Country/Region').sum()\n",
        "rec.reset_index(inplace=True)\n",
        "rec[['Deaths']].value_counts(normalize=True)*100\n",
        "\n",
        "rec['Country/Region'] = rec['Country/Region'].astype('str')\n",
        "\n",
        "rec"
      ],
      "execution_count": 248,
      "outputs": [
        {
          "output_type": "execute_result",
          "data": {
            "text/html": [
              "<div>\n",
              "<style scoped>\n",
              "    .dataframe tbody tr th:only-of-type {\n",
              "        vertical-align: middle;\n",
              "    }\n",
              "\n",
              "    .dataframe tbody tr th {\n",
              "        vertical-align: top;\n",
              "    }\n",
              "\n",
              "    .dataframe thead th {\n",
              "        text-align: right;\n",
              "    }\n",
              "</style>\n",
              "<table border=\"1\" class=\"dataframe\">\n",
              "  <thead>\n",
              "    <tr style=\"text-align: right;\">\n",
              "      <th></th>\n",
              "      <th>Country/Region</th>\n",
              "      <th>Deaths</th>\n",
              "      <th>Rate</th>\n",
              "    </tr>\n",
              "  </thead>\n",
              "  <tbody>\n",
              "    <tr>\n",
              "      <th>0</th>\n",
              "      <td>China</td>\n",
              "      <td>166759</td>\n",
              "      <td>0.567284</td>\n",
              "    </tr>\n",
              "    <tr>\n",
              "      <th>1</th>\n",
              "      <td>Iran</td>\n",
              "      <td>494287</td>\n",
              "      <td>0.148796</td>\n",
              "    </tr>\n",
              "    <tr>\n",
              "      <th>2</th>\n",
              "      <td>Mainland China</td>\n",
              "      <td>15646518</td>\n",
              "      <td>66.176881</td>\n",
              "    </tr>\n",
              "    <tr>\n",
              "      <th>3</th>\n",
              "      <td>US</td>\n",
              "      <td>23324889</td>\n",
              "      <td>7.672278</td>\n",
              "    </tr>\n",
              "  </tbody>\n",
              "</table>\n",
              "</div>"
            ],
            "text/plain": [
              "   Country/Region    Deaths       Rate\n",
              "0           China    166759   0.567284\n",
              "1            Iran    494287   0.148796\n",
              "2  Mainland China  15646518  66.176881\n",
              "3              US  23324889   7.672278"
            ]
          },
          "metadata": {},
          "execution_count": 248
        }
      ]
    },
    {
      "cell_type": "markdown",
      "metadata": {
        "id": "k2NOfTS-SnSG"
      },
      "source": [
        "## Task 8: By examining the plots, which country has been able to efficiently and swiftly recover the confirmed cases? Work out the recovery rate for each country (US, Iran, and China) and then answer the question?"
      ]
    },
    {
      "cell_type": "code",
      "metadata": {
        "colab": {
          "base_uri": "https://localhost:8080/",
          "height": 360
        },
        "id": "jMvcwLeySw5E",
        "outputId": "d8df121a-b09a-4b41-c65e-5cea27acdc73"
      },
      "source": [
        "countries = pd.DataFrame(data.loc[data['Country/Region'].isin(countries_of_interest)])\n",
        "\n",
        "countries['Confirmed'] = countries['Confirmed'].astype('int64')\n",
        "countries['Recovered'] = countries['Recovered'].astype('int64')\n",
        "\n",
        "rec = pd.DataFrame(countries[['Recovered', 'Confirmed']].value_counts(normalize=True)*100)\n",
        "rec.reset_index(inplace=True)\n",
        "rec.rename(columns = {0:'Rate'}, inplace=True)\n",
        "\n",
        "rec['Country/Region'] = countries['Country/Region'].copy()\n",
        "\n",
        "rec = rec.groupby('Country/Region').sum()\n",
        "rec.reset_index(inplace=True)\n",
        "rec[['Recovered', 'Confirmed']].value_counts(normalize=True)*100\n",
        "\n",
        "rec['Country/Region'] = rec['Country/Region'].astype('str')\n",
        "\n",
        "sns.lineplot(x= rec['Country/Region'], y= rec.Rate, data=rec)\n",
        "sns.set_theme(style='darkgrid')\n",
        "plt.xticks(rotation=90)\n",
        "plt.show()"
      ],
      "execution_count": 245,
      "outputs": [
        {
          "output_type": "display_data",
          "data": {
            "image/png": "[encoded data removed]",
            "text/plain": [
              "<Figure size 1080x288 with 1 Axes>"
            ]
          },
          "metadata": {}
        }
      ]
    },
    {
      "cell_type": "markdown",
      "metadata": {
        "id": "rIV--Fo9r_0d"
      },
      "source": [
        "From Graph it is evident that China has highest recovery rate. "
      ]
    }
  ]
}